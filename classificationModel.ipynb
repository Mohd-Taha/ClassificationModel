{
 "cells": [
  {
   "cell_type": "markdown",
   "id": "brEguByfSFQU",
   "metadata": {
    "id": "brEguByfSFQU"
   },
   "source": [
    "# ***Diabetes Health Indicators Dataset***\n",
    "Train On Different Classification Models and Find the Best Among Them"
   ]
  },
  {
   "cell_type": "markdown",
   "id": "7b080cc9",
   "metadata": {
    "id": "7b080cc9"
   },
   "source": [
    "### Importing Libraries"
   ]
  },
  {
   "cell_type": "code",
   "execution_count": 11,
   "id": "5ef02754",
   "metadata": {
    "id": "5ef02754"
   },
   "outputs": [],
   "source": [
    "import pandas as pd\n",
    "import seaborn as sns\n",
    "import matplotlib.pyplot as plt\n",
    "from sklearn.model_selection import train_test_split\n",
    "from sklearn.ensemble import RandomForestClassifier\n",
    "from sklearn.tree import DecisionTreeClassifier\n",
    "from sklearn.linear_model import LogisticRegression\n",
    "from sklearn.ensemble import GradientBoostingClassifier\n",
    "from sklearn.naive_bayes import GaussianNB\n",
    "from sklearn import metrics"
   ]
  },
  {
   "cell_type": "markdown",
   "id": "9f98f7a3",
   "metadata": {
    "id": "9f98f7a3"
   },
   "source": [
    "### Loading Data"
   ]
  },
  {
   "cell_type": "code",
   "execution_count": 12,
   "id": "0ed16b1e",
   "metadata": {
    "colab": {
     "base_uri": "https://localhost:8080/"
    },
    "id": "0ed16b1e",
    "outputId": "e6f3b1c3-04e7-4d65-e175-663e872e69cf"
   },
   "outputs": [
    {
     "name": "stdout",
     "output_type": "stream",
     "text": [
      "Mounted at /content/drive\n"
     ]
    }
   ],
   "source": [
    "from google.colab import drive\n",
    "drive.mount('/content/drive')\n",
    "df = pd.read_csv('/content/drive/MyDrive/7thSemester/diabetes_binary_5050split_health_indicators_BRFSS2015.csv')"
   ]
  },
  {
   "cell_type": "markdown",
   "id": "ed573dc0",
   "metadata": {
    "id": "ed573dc0"
   },
   "source": [
    "### Inspecting Data"
   ]
  },
  {
   "cell_type": "code",
   "execution_count": 13,
   "id": "40a63e86",
   "metadata": {
    "colab": {
     "base_uri": "https://localhost:8080/"
    },
    "id": "40a63e86",
    "outputId": "c724019e-0a78-4311-b02e-213ae5e6740e"
   },
   "outputs": [
    {
     "data": {
      "text/plain": [
       "(70692, 22)"
      ]
     },
     "execution_count": 13,
     "metadata": {},
     "output_type": "execute_result"
    }
   ],
   "source": [
    "df.shape"
   ]
  },
  {
   "cell_type": "code",
   "execution_count": 14,
   "id": "e6f3d8e8",
   "metadata": {
    "colab": {
     "base_uri": "https://localhost:8080/"
    },
    "id": "e6f3d8e8",
    "outputId": "6a91107e-e53d-4b17-999f-2924cd90a1f6"
   },
   "outputs": [
    {
     "name": "stdout",
     "output_type": "stream",
     "text": [
      "<class 'pandas.core.frame.DataFrame'>\n",
      "RangeIndex: 70692 entries, 0 to 70691\n",
      "Data columns (total 22 columns):\n",
      " #   Column                Non-Null Count  Dtype  \n",
      "---  ------                --------------  -----  \n",
      " 0   Diabetes_binary       70692 non-null  float64\n",
      " 1   HighBP                70692 non-null  float64\n",
      " 2   HighChol              70692 non-null  float64\n",
      " 3   CholCheck             70692 non-null  float64\n",
      " 4   BMI                   70692 non-null  float64\n",
      " 5   Smoker                70692 non-null  float64\n",
      " 6   Stroke                70692 non-null  float64\n",
      " 7   HeartDiseaseorAttack  70692 non-null  float64\n",
      " 8   PhysActivity          70692 non-null  float64\n",
      " 9   Fruits                70692 non-null  float64\n",
      " 10  Veggies               70692 non-null  float64\n",
      " 11  HvyAlcoholConsump     70692 non-null  float64\n",
      " 12  AnyHealthcare         70692 non-null  float64\n",
      " 13  NoDocbcCost           70692 non-null  float64\n",
      " 14  GenHlth               70692 non-null  float64\n",
      " 15  MentHlth              70692 non-null  float64\n",
      " 16  PhysHlth              70692 non-null  float64\n",
      " 17  DiffWalk              70692 non-null  float64\n",
      " 18  Sex                   70692 non-null  float64\n",
      " 19  Age                   70692 non-null  float64\n",
      " 20  Education             70692 non-null  float64\n",
      " 21  Income                70692 non-null  float64\n",
      "dtypes: float64(22)\n",
      "memory usage: 11.9 MB\n"
     ]
    }
   ],
   "source": [
    "df.info()"
   ]
  },
  {
   "cell_type": "code",
   "execution_count": 15,
   "id": "5d7bbc98",
   "metadata": {
    "colab": {
     "base_uri": "https://localhost:8080/",
     "height": 394
    },
    "id": "5d7bbc98",
    "outputId": "dc1992c3-ed40-408a-bbd4-e1b11797415f"
   },
   "outputs": [
    {
     "data": {
      "text/html": [
       "\n",
       "  <div id=\"df-0ec11ce1-71a5-4103-a13a-778999d26970\">\n",
       "    <div class=\"colab-df-container\">\n",
       "      <div>\n",
       "<style scoped>\n",
       "    .dataframe tbody tr th:only-of-type {\n",
       "        vertical-align: middle;\n",
       "    }\n",
       "\n",
       "    .dataframe tbody tr th {\n",
       "        vertical-align: top;\n",
       "    }\n",
       "\n",
       "    .dataframe thead th {\n",
       "        text-align: right;\n",
       "    }\n",
       "</style>\n",
       "<table border=\"1\" class=\"dataframe\">\n",
       "  <thead>\n",
       "    <tr style=\"text-align: right;\">\n",
       "      <th></th>\n",
       "      <th>Diabetes_binary</th>\n",
       "      <th>HighBP</th>\n",
       "      <th>HighChol</th>\n",
       "      <th>CholCheck</th>\n",
       "      <th>BMI</th>\n",
       "      <th>Smoker</th>\n",
       "      <th>Stroke</th>\n",
       "      <th>HeartDiseaseorAttack</th>\n",
       "      <th>PhysActivity</th>\n",
       "      <th>Fruits</th>\n",
       "      <th>...</th>\n",
       "      <th>AnyHealthcare</th>\n",
       "      <th>NoDocbcCost</th>\n",
       "      <th>GenHlth</th>\n",
       "      <th>MentHlth</th>\n",
       "      <th>PhysHlth</th>\n",
       "      <th>DiffWalk</th>\n",
       "      <th>Sex</th>\n",
       "      <th>Age</th>\n",
       "      <th>Education</th>\n",
       "      <th>Income</th>\n",
       "    </tr>\n",
       "  </thead>\n",
       "  <tbody>\n",
       "    <tr>\n",
       "      <th>count</th>\n",
       "      <td>70692.000000</td>\n",
       "      <td>70692.000000</td>\n",
       "      <td>70692.000000</td>\n",
       "      <td>70692.000000</td>\n",
       "      <td>70692.000000</td>\n",
       "      <td>70692.000000</td>\n",
       "      <td>70692.000000</td>\n",
       "      <td>70692.000000</td>\n",
       "      <td>70692.000000</td>\n",
       "      <td>70692.000000</td>\n",
       "      <td>...</td>\n",
       "      <td>70692.000000</td>\n",
       "      <td>70692.000000</td>\n",
       "      <td>70692.000000</td>\n",
       "      <td>70692.000000</td>\n",
       "      <td>70692.000000</td>\n",
       "      <td>70692.000000</td>\n",
       "      <td>70692.000000</td>\n",
       "      <td>70692.000000</td>\n",
       "      <td>70692.000000</td>\n",
       "      <td>70692.000000</td>\n",
       "    </tr>\n",
       "    <tr>\n",
       "      <th>mean</th>\n",
       "      <td>0.500000</td>\n",
       "      <td>0.563458</td>\n",
       "      <td>0.525703</td>\n",
       "      <td>0.975259</td>\n",
       "      <td>29.856985</td>\n",
       "      <td>0.475273</td>\n",
       "      <td>0.062171</td>\n",
       "      <td>0.147810</td>\n",
       "      <td>0.703036</td>\n",
       "      <td>0.611795</td>\n",
       "      <td>...</td>\n",
       "      <td>0.954960</td>\n",
       "      <td>0.093914</td>\n",
       "      <td>2.837082</td>\n",
       "      <td>3.752037</td>\n",
       "      <td>5.810417</td>\n",
       "      <td>0.252730</td>\n",
       "      <td>0.456997</td>\n",
       "      <td>8.584055</td>\n",
       "      <td>4.920953</td>\n",
       "      <td>5.698311</td>\n",
       "    </tr>\n",
       "    <tr>\n",
       "      <th>std</th>\n",
       "      <td>0.500004</td>\n",
       "      <td>0.495960</td>\n",
       "      <td>0.499342</td>\n",
       "      <td>0.155336</td>\n",
       "      <td>7.113954</td>\n",
       "      <td>0.499392</td>\n",
       "      <td>0.241468</td>\n",
       "      <td>0.354914</td>\n",
       "      <td>0.456924</td>\n",
       "      <td>0.487345</td>\n",
       "      <td>...</td>\n",
       "      <td>0.207394</td>\n",
       "      <td>0.291712</td>\n",
       "      <td>1.113565</td>\n",
       "      <td>8.155627</td>\n",
       "      <td>10.062261</td>\n",
       "      <td>0.434581</td>\n",
       "      <td>0.498151</td>\n",
       "      <td>2.852153</td>\n",
       "      <td>1.029081</td>\n",
       "      <td>2.175196</td>\n",
       "    </tr>\n",
       "    <tr>\n",
       "      <th>min</th>\n",
       "      <td>0.000000</td>\n",
       "      <td>0.000000</td>\n",
       "      <td>0.000000</td>\n",
       "      <td>0.000000</td>\n",
       "      <td>12.000000</td>\n",
       "      <td>0.000000</td>\n",
       "      <td>0.000000</td>\n",
       "      <td>0.000000</td>\n",
       "      <td>0.000000</td>\n",
       "      <td>0.000000</td>\n",
       "      <td>...</td>\n",
       "      <td>0.000000</td>\n",
       "      <td>0.000000</td>\n",
       "      <td>1.000000</td>\n",
       "      <td>0.000000</td>\n",
       "      <td>0.000000</td>\n",
       "      <td>0.000000</td>\n",
       "      <td>0.000000</td>\n",
       "      <td>1.000000</td>\n",
       "      <td>1.000000</td>\n",
       "      <td>1.000000</td>\n",
       "    </tr>\n",
       "    <tr>\n",
       "      <th>25%</th>\n",
       "      <td>0.000000</td>\n",
       "      <td>0.000000</td>\n",
       "      <td>0.000000</td>\n",
       "      <td>1.000000</td>\n",
       "      <td>25.000000</td>\n",
       "      <td>0.000000</td>\n",
       "      <td>0.000000</td>\n",
       "      <td>0.000000</td>\n",
       "      <td>0.000000</td>\n",
       "      <td>0.000000</td>\n",
       "      <td>...</td>\n",
       "      <td>1.000000</td>\n",
       "      <td>0.000000</td>\n",
       "      <td>2.000000</td>\n",
       "      <td>0.000000</td>\n",
       "      <td>0.000000</td>\n",
       "      <td>0.000000</td>\n",
       "      <td>0.000000</td>\n",
       "      <td>7.000000</td>\n",
       "      <td>4.000000</td>\n",
       "      <td>4.000000</td>\n",
       "    </tr>\n",
       "    <tr>\n",
       "      <th>50%</th>\n",
       "      <td>0.500000</td>\n",
       "      <td>1.000000</td>\n",
       "      <td>1.000000</td>\n",
       "      <td>1.000000</td>\n",
       "      <td>29.000000</td>\n",
       "      <td>0.000000</td>\n",
       "      <td>0.000000</td>\n",
       "      <td>0.000000</td>\n",
       "      <td>1.000000</td>\n",
       "      <td>1.000000</td>\n",
       "      <td>...</td>\n",
       "      <td>1.000000</td>\n",
       "      <td>0.000000</td>\n",
       "      <td>3.000000</td>\n",
       "      <td>0.000000</td>\n",
       "      <td>0.000000</td>\n",
       "      <td>0.000000</td>\n",
       "      <td>0.000000</td>\n",
       "      <td>9.000000</td>\n",
       "      <td>5.000000</td>\n",
       "      <td>6.000000</td>\n",
       "    </tr>\n",
       "    <tr>\n",
       "      <th>75%</th>\n",
       "      <td>1.000000</td>\n",
       "      <td>1.000000</td>\n",
       "      <td>1.000000</td>\n",
       "      <td>1.000000</td>\n",
       "      <td>33.000000</td>\n",
       "      <td>1.000000</td>\n",
       "      <td>0.000000</td>\n",
       "      <td>0.000000</td>\n",
       "      <td>1.000000</td>\n",
       "      <td>1.000000</td>\n",
       "      <td>...</td>\n",
       "      <td>1.000000</td>\n",
       "      <td>0.000000</td>\n",
       "      <td>4.000000</td>\n",
       "      <td>2.000000</td>\n",
       "      <td>6.000000</td>\n",
       "      <td>1.000000</td>\n",
       "      <td>1.000000</td>\n",
       "      <td>11.000000</td>\n",
       "      <td>6.000000</td>\n",
       "      <td>8.000000</td>\n",
       "    </tr>\n",
       "    <tr>\n",
       "      <th>max</th>\n",
       "      <td>1.000000</td>\n",
       "      <td>1.000000</td>\n",
       "      <td>1.000000</td>\n",
       "      <td>1.000000</td>\n",
       "      <td>98.000000</td>\n",
       "      <td>1.000000</td>\n",
       "      <td>1.000000</td>\n",
       "      <td>1.000000</td>\n",
       "      <td>1.000000</td>\n",
       "      <td>1.000000</td>\n",
       "      <td>...</td>\n",
       "      <td>1.000000</td>\n",
       "      <td>1.000000</td>\n",
       "      <td>5.000000</td>\n",
       "      <td>30.000000</td>\n",
       "      <td>30.000000</td>\n",
       "      <td>1.000000</td>\n",
       "      <td>1.000000</td>\n",
       "      <td>13.000000</td>\n",
       "      <td>6.000000</td>\n",
       "      <td>8.000000</td>\n",
       "    </tr>\n",
       "  </tbody>\n",
       "</table>\n",
       "<p>8 rows × 22 columns</p>\n",
       "</div>\n",
       "      <button class=\"colab-df-convert\" onclick=\"convertToInteractive('df-0ec11ce1-71a5-4103-a13a-778999d26970')\"\n",
       "              title=\"Convert this dataframe to an interactive table.\"\n",
       "              style=\"display:none;\">\n",
       "        \n",
       "  <svg xmlns=\"http://www.w3.org/2000/svg\" height=\"24px\"viewBox=\"0 0 24 24\"\n",
       "       width=\"24px\">\n",
       "    <path d=\"M0 0h24v24H0V0z\" fill=\"none\"/>\n",
       "    <path d=\"M18.56 5.44l.94 2.06.94-2.06 2.06-.94-2.06-.94-.94-2.06-.94 2.06-2.06.94zm-11 1L8.5 8.5l.94-2.06 2.06-.94-2.06-.94L8.5 2.5l-.94 2.06-2.06.94zm10 10l.94 2.06.94-2.06 2.06-.94-2.06-.94-.94-2.06-.94 2.06-2.06.94z\"/><path d=\"M17.41 7.96l-1.37-1.37c-.4-.4-.92-.59-1.43-.59-.52 0-1.04.2-1.43.59L10.3 9.45l-7.72 7.72c-.78.78-.78 2.05 0 2.83L4 21.41c.39.39.9.59 1.41.59.51 0 1.02-.2 1.41-.59l7.78-7.78 2.81-2.81c.8-.78.8-2.07 0-2.86zM5.41 20L4 18.59l7.72-7.72 1.47 1.35L5.41 20z\"/>\n",
       "  </svg>\n",
       "      </button>\n",
       "      \n",
       "  <style>\n",
       "    .colab-df-container {\n",
       "      display:flex;\n",
       "      flex-wrap:wrap;\n",
       "      gap: 12px;\n",
       "    }\n",
       "\n",
       "    .colab-df-convert {\n",
       "      background-color: #E8F0FE;\n",
       "      border: none;\n",
       "      border-radius: 50%;\n",
       "      cursor: pointer;\n",
       "      display: none;\n",
       "      fill: #1967D2;\n",
       "      height: 32px;\n",
       "      padding: 0 0 0 0;\n",
       "      width: 32px;\n",
       "    }\n",
       "\n",
       "    .colab-df-convert:hover {\n",
       "      background-color: #E2EBFA;\n",
       "      box-shadow: 0px 1px 2px rgba(60, 64, 67, 0.3), 0px 1px 3px 1px rgba(60, 64, 67, 0.15);\n",
       "      fill: #174EA6;\n",
       "    }\n",
       "\n",
       "    [theme=dark] .colab-df-convert {\n",
       "      background-color: #3B4455;\n",
       "      fill: #D2E3FC;\n",
       "    }\n",
       "\n",
       "    [theme=dark] .colab-df-convert:hover {\n",
       "      background-color: #434B5C;\n",
       "      box-shadow: 0px 1px 3px 1px rgba(0, 0, 0, 0.15);\n",
       "      filter: drop-shadow(0px 1px 2px rgba(0, 0, 0, 0.3));\n",
       "      fill: #FFFFFF;\n",
       "    }\n",
       "  </style>\n",
       "\n",
       "      <script>\n",
       "        const buttonEl =\n",
       "          document.querySelector('#df-0ec11ce1-71a5-4103-a13a-778999d26970 button.colab-df-convert');\n",
       "        buttonEl.style.display =\n",
       "          google.colab.kernel.accessAllowed ? 'block' : 'none';\n",
       "\n",
       "        async function convertToInteractive(key) {\n",
       "          const element = document.querySelector('#df-0ec11ce1-71a5-4103-a13a-778999d26970');\n",
       "          const dataTable =\n",
       "            await google.colab.kernel.invokeFunction('convertToInteractive',\n",
       "                                                     [key], {});\n",
       "          if (!dataTable) return;\n",
       "\n",
       "          const docLinkHtml = 'Like what you see? Visit the ' +\n",
       "            '<a target=\"_blank\" href=https://colab.research.google.com/notebooks/data_table.ipynb>data table notebook</a>'\n",
       "            + ' to learn more about interactive tables.';\n",
       "          element.innerHTML = '';\n",
       "          dataTable['output_type'] = 'display_data';\n",
       "          await google.colab.output.renderOutput(dataTable, element);\n",
       "          const docLink = document.createElement('div');\n",
       "          docLink.innerHTML = docLinkHtml;\n",
       "          element.appendChild(docLink);\n",
       "        }\n",
       "      </script>\n",
       "    </div>\n",
       "  </div>\n",
       "  "
      ],
      "text/plain": [
       "       Diabetes_binary        HighBP      HighChol     CholCheck  \\\n",
       "count     70692.000000  70692.000000  70692.000000  70692.000000   \n",
       "mean          0.500000      0.563458      0.525703      0.975259   \n",
       "std           0.500004      0.495960      0.499342      0.155336   \n",
       "min           0.000000      0.000000      0.000000      0.000000   \n",
       "25%           0.000000      0.000000      0.000000      1.000000   \n",
       "50%           0.500000      1.000000      1.000000      1.000000   \n",
       "75%           1.000000      1.000000      1.000000      1.000000   \n",
       "max           1.000000      1.000000      1.000000      1.000000   \n",
       "\n",
       "                BMI        Smoker        Stroke  HeartDiseaseorAttack  \\\n",
       "count  70692.000000  70692.000000  70692.000000          70692.000000   \n",
       "mean      29.856985      0.475273      0.062171              0.147810   \n",
       "std        7.113954      0.499392      0.241468              0.354914   \n",
       "min       12.000000      0.000000      0.000000              0.000000   \n",
       "25%       25.000000      0.000000      0.000000              0.000000   \n",
       "50%       29.000000      0.000000      0.000000              0.000000   \n",
       "75%       33.000000      1.000000      0.000000              0.000000   \n",
       "max       98.000000      1.000000      1.000000              1.000000   \n",
       "\n",
       "       PhysActivity        Fruits  ...  AnyHealthcare   NoDocbcCost  \\\n",
       "count  70692.000000  70692.000000  ...   70692.000000  70692.000000   \n",
       "mean       0.703036      0.611795  ...       0.954960      0.093914   \n",
       "std        0.456924      0.487345  ...       0.207394      0.291712   \n",
       "min        0.000000      0.000000  ...       0.000000      0.000000   \n",
       "25%        0.000000      0.000000  ...       1.000000      0.000000   \n",
       "50%        1.000000      1.000000  ...       1.000000      0.000000   \n",
       "75%        1.000000      1.000000  ...       1.000000      0.000000   \n",
       "max        1.000000      1.000000  ...       1.000000      1.000000   \n",
       "\n",
       "            GenHlth      MentHlth      PhysHlth      DiffWalk           Sex  \\\n",
       "count  70692.000000  70692.000000  70692.000000  70692.000000  70692.000000   \n",
       "mean       2.837082      3.752037      5.810417      0.252730      0.456997   \n",
       "std        1.113565      8.155627     10.062261      0.434581      0.498151   \n",
       "min        1.000000      0.000000      0.000000      0.000000      0.000000   \n",
       "25%        2.000000      0.000000      0.000000      0.000000      0.000000   \n",
       "50%        3.000000      0.000000      0.000000      0.000000      0.000000   \n",
       "75%        4.000000      2.000000      6.000000      1.000000      1.000000   \n",
       "max        5.000000     30.000000     30.000000      1.000000      1.000000   \n",
       "\n",
       "                Age     Education        Income  \n",
       "count  70692.000000  70692.000000  70692.000000  \n",
       "mean       8.584055      4.920953      5.698311  \n",
       "std        2.852153      1.029081      2.175196  \n",
       "min        1.000000      1.000000      1.000000  \n",
       "25%        7.000000      4.000000      4.000000  \n",
       "50%        9.000000      5.000000      6.000000  \n",
       "75%       11.000000      6.000000      8.000000  \n",
       "max       13.000000      6.000000      8.000000  \n",
       "\n",
       "[8 rows x 22 columns]"
      ]
     },
     "execution_count": 15,
     "metadata": {},
     "output_type": "execute_result"
    }
   ],
   "source": [
    "df.describe()"
   ]
  },
  {
   "cell_type": "code",
   "execution_count": 16,
   "id": "b3212ee5",
   "metadata": {
    "colab": {
     "base_uri": "https://localhost:8080/",
     "height": 300
    },
    "id": "b3212ee5",
    "outputId": "076305a3-c247-4543-f86c-6ddde3d03e3f"
   },
   "outputs": [
    {
     "data": {
      "text/html": [
       "\n",
       "  <div id=\"df-a98d952a-79b2-441d-8d38-48af784db184\">\n",
       "    <div class=\"colab-df-container\">\n",
       "      <div>\n",
       "<style scoped>\n",
       "    .dataframe tbody tr th:only-of-type {\n",
       "        vertical-align: middle;\n",
       "    }\n",
       "\n",
       "    .dataframe tbody tr th {\n",
       "        vertical-align: top;\n",
       "    }\n",
       "\n",
       "    .dataframe thead th {\n",
       "        text-align: right;\n",
       "    }\n",
       "</style>\n",
       "<table border=\"1\" class=\"dataframe\">\n",
       "  <thead>\n",
       "    <tr style=\"text-align: right;\">\n",
       "      <th></th>\n",
       "      <th>Diabetes_binary</th>\n",
       "      <th>HighBP</th>\n",
       "      <th>HighChol</th>\n",
       "      <th>CholCheck</th>\n",
       "      <th>BMI</th>\n",
       "      <th>Smoker</th>\n",
       "      <th>Stroke</th>\n",
       "      <th>HeartDiseaseorAttack</th>\n",
       "      <th>PhysActivity</th>\n",
       "      <th>Fruits</th>\n",
       "      <th>...</th>\n",
       "      <th>AnyHealthcare</th>\n",
       "      <th>NoDocbcCost</th>\n",
       "      <th>GenHlth</th>\n",
       "      <th>MentHlth</th>\n",
       "      <th>PhysHlth</th>\n",
       "      <th>DiffWalk</th>\n",
       "      <th>Sex</th>\n",
       "      <th>Age</th>\n",
       "      <th>Education</th>\n",
       "      <th>Income</th>\n",
       "    </tr>\n",
       "  </thead>\n",
       "  <tbody>\n",
       "    <tr>\n",
       "      <th>0</th>\n",
       "      <td>0.0</td>\n",
       "      <td>1.0</td>\n",
       "      <td>0.0</td>\n",
       "      <td>1.0</td>\n",
       "      <td>26.0</td>\n",
       "      <td>0.0</td>\n",
       "      <td>0.0</td>\n",
       "      <td>0.0</td>\n",
       "      <td>1.0</td>\n",
       "      <td>0.0</td>\n",
       "      <td>...</td>\n",
       "      <td>1.0</td>\n",
       "      <td>0.0</td>\n",
       "      <td>3.0</td>\n",
       "      <td>5.0</td>\n",
       "      <td>30.0</td>\n",
       "      <td>0.0</td>\n",
       "      <td>1.0</td>\n",
       "      <td>4.0</td>\n",
       "      <td>6.0</td>\n",
       "      <td>8.0</td>\n",
       "    </tr>\n",
       "    <tr>\n",
       "      <th>1</th>\n",
       "      <td>0.0</td>\n",
       "      <td>1.0</td>\n",
       "      <td>1.0</td>\n",
       "      <td>1.0</td>\n",
       "      <td>26.0</td>\n",
       "      <td>1.0</td>\n",
       "      <td>1.0</td>\n",
       "      <td>0.0</td>\n",
       "      <td>0.0</td>\n",
       "      <td>1.0</td>\n",
       "      <td>...</td>\n",
       "      <td>1.0</td>\n",
       "      <td>0.0</td>\n",
       "      <td>3.0</td>\n",
       "      <td>0.0</td>\n",
       "      <td>0.0</td>\n",
       "      <td>0.0</td>\n",
       "      <td>1.0</td>\n",
       "      <td>12.0</td>\n",
       "      <td>6.0</td>\n",
       "      <td>8.0</td>\n",
       "    </tr>\n",
       "    <tr>\n",
       "      <th>2</th>\n",
       "      <td>0.0</td>\n",
       "      <td>0.0</td>\n",
       "      <td>0.0</td>\n",
       "      <td>1.0</td>\n",
       "      <td>26.0</td>\n",
       "      <td>0.0</td>\n",
       "      <td>0.0</td>\n",
       "      <td>0.0</td>\n",
       "      <td>1.0</td>\n",
       "      <td>1.0</td>\n",
       "      <td>...</td>\n",
       "      <td>1.0</td>\n",
       "      <td>0.0</td>\n",
       "      <td>1.0</td>\n",
       "      <td>0.0</td>\n",
       "      <td>10.0</td>\n",
       "      <td>0.0</td>\n",
       "      <td>1.0</td>\n",
       "      <td>13.0</td>\n",
       "      <td>6.0</td>\n",
       "      <td>8.0</td>\n",
       "    </tr>\n",
       "    <tr>\n",
       "      <th>3</th>\n",
       "      <td>0.0</td>\n",
       "      <td>1.0</td>\n",
       "      <td>1.0</td>\n",
       "      <td>1.0</td>\n",
       "      <td>28.0</td>\n",
       "      <td>1.0</td>\n",
       "      <td>0.0</td>\n",
       "      <td>0.0</td>\n",
       "      <td>1.0</td>\n",
       "      <td>1.0</td>\n",
       "      <td>...</td>\n",
       "      <td>1.0</td>\n",
       "      <td>0.0</td>\n",
       "      <td>3.0</td>\n",
       "      <td>0.0</td>\n",
       "      <td>3.0</td>\n",
       "      <td>0.0</td>\n",
       "      <td>1.0</td>\n",
       "      <td>11.0</td>\n",
       "      <td>6.0</td>\n",
       "      <td>8.0</td>\n",
       "    </tr>\n",
       "    <tr>\n",
       "      <th>4</th>\n",
       "      <td>0.0</td>\n",
       "      <td>0.0</td>\n",
       "      <td>0.0</td>\n",
       "      <td>1.0</td>\n",
       "      <td>29.0</td>\n",
       "      <td>1.0</td>\n",
       "      <td>0.0</td>\n",
       "      <td>0.0</td>\n",
       "      <td>1.0</td>\n",
       "      <td>1.0</td>\n",
       "      <td>...</td>\n",
       "      <td>1.0</td>\n",
       "      <td>0.0</td>\n",
       "      <td>2.0</td>\n",
       "      <td>0.0</td>\n",
       "      <td>0.0</td>\n",
       "      <td>0.0</td>\n",
       "      <td>0.0</td>\n",
       "      <td>8.0</td>\n",
       "      <td>5.0</td>\n",
       "      <td>8.0</td>\n",
       "    </tr>\n",
       "  </tbody>\n",
       "</table>\n",
       "<p>5 rows × 22 columns</p>\n",
       "</div>\n",
       "      <button class=\"colab-df-convert\" onclick=\"convertToInteractive('df-a98d952a-79b2-441d-8d38-48af784db184')\"\n",
       "              title=\"Convert this dataframe to an interactive table.\"\n",
       "              style=\"display:none;\">\n",
       "        \n",
       "  <svg xmlns=\"http://www.w3.org/2000/svg\" height=\"24px\"viewBox=\"0 0 24 24\"\n",
       "       width=\"24px\">\n",
       "    <path d=\"M0 0h24v24H0V0z\" fill=\"none\"/>\n",
       "    <path d=\"M18.56 5.44l.94 2.06.94-2.06 2.06-.94-2.06-.94-.94-2.06-.94 2.06-2.06.94zm-11 1L8.5 8.5l.94-2.06 2.06-.94-2.06-.94L8.5 2.5l-.94 2.06-2.06.94zm10 10l.94 2.06.94-2.06 2.06-.94-2.06-.94-.94-2.06-.94 2.06-2.06.94z\"/><path d=\"M17.41 7.96l-1.37-1.37c-.4-.4-.92-.59-1.43-.59-.52 0-1.04.2-1.43.59L10.3 9.45l-7.72 7.72c-.78.78-.78 2.05 0 2.83L4 21.41c.39.39.9.59 1.41.59.51 0 1.02-.2 1.41-.59l7.78-7.78 2.81-2.81c.8-.78.8-2.07 0-2.86zM5.41 20L4 18.59l7.72-7.72 1.47 1.35L5.41 20z\"/>\n",
       "  </svg>\n",
       "      </button>\n",
       "      \n",
       "  <style>\n",
       "    .colab-df-container {\n",
       "      display:flex;\n",
       "      flex-wrap:wrap;\n",
       "      gap: 12px;\n",
       "    }\n",
       "\n",
       "    .colab-df-convert {\n",
       "      background-color: #E8F0FE;\n",
       "      border: none;\n",
       "      border-radius: 50%;\n",
       "      cursor: pointer;\n",
       "      display: none;\n",
       "      fill: #1967D2;\n",
       "      height: 32px;\n",
       "      padding: 0 0 0 0;\n",
       "      width: 32px;\n",
       "    }\n",
       "\n",
       "    .colab-df-convert:hover {\n",
       "      background-color: #E2EBFA;\n",
       "      box-shadow: 0px 1px 2px rgba(60, 64, 67, 0.3), 0px 1px 3px 1px rgba(60, 64, 67, 0.15);\n",
       "      fill: #174EA6;\n",
       "    }\n",
       "\n",
       "    [theme=dark] .colab-df-convert {\n",
       "      background-color: #3B4455;\n",
       "      fill: #D2E3FC;\n",
       "    }\n",
       "\n",
       "    [theme=dark] .colab-df-convert:hover {\n",
       "      background-color: #434B5C;\n",
       "      box-shadow: 0px 1px 3px 1px rgba(0, 0, 0, 0.15);\n",
       "      filter: drop-shadow(0px 1px 2px rgba(0, 0, 0, 0.3));\n",
       "      fill: #FFFFFF;\n",
       "    }\n",
       "  </style>\n",
       "\n",
       "      <script>\n",
       "        const buttonEl =\n",
       "          document.querySelector('#df-a98d952a-79b2-441d-8d38-48af784db184 button.colab-df-convert');\n",
       "        buttonEl.style.display =\n",
       "          google.colab.kernel.accessAllowed ? 'block' : 'none';\n",
       "\n",
       "        async function convertToInteractive(key) {\n",
       "          const element = document.querySelector('#df-a98d952a-79b2-441d-8d38-48af784db184');\n",
       "          const dataTable =\n",
       "            await google.colab.kernel.invokeFunction('convertToInteractive',\n",
       "                                                     [key], {});\n",
       "          if (!dataTable) return;\n",
       "\n",
       "          const docLinkHtml = 'Like what you see? Visit the ' +\n",
       "            '<a target=\"_blank\" href=https://colab.research.google.com/notebooks/data_table.ipynb>data table notebook</a>'\n",
       "            + ' to learn more about interactive tables.';\n",
       "          element.innerHTML = '';\n",
       "          dataTable['output_type'] = 'display_data';\n",
       "          await google.colab.output.renderOutput(dataTable, element);\n",
       "          const docLink = document.createElement('div');\n",
       "          docLink.innerHTML = docLinkHtml;\n",
       "          element.appendChild(docLink);\n",
       "        }\n",
       "      </script>\n",
       "    </div>\n",
       "  </div>\n",
       "  "
      ],
      "text/plain": [
       "   Diabetes_binary  HighBP  HighChol  CholCheck   BMI  Smoker  Stroke  \\\n",
       "0              0.0     1.0       0.0        1.0  26.0     0.0     0.0   \n",
       "1              0.0     1.0       1.0        1.0  26.0     1.0     1.0   \n",
       "2              0.0     0.0       0.0        1.0  26.0     0.0     0.0   \n",
       "3              0.0     1.0       1.0        1.0  28.0     1.0     0.0   \n",
       "4              0.0     0.0       0.0        1.0  29.0     1.0     0.0   \n",
       "\n",
       "   HeartDiseaseorAttack  PhysActivity  Fruits  ...  AnyHealthcare  \\\n",
       "0                   0.0           1.0     0.0  ...            1.0   \n",
       "1                   0.0           0.0     1.0  ...            1.0   \n",
       "2                   0.0           1.0     1.0  ...            1.0   \n",
       "3                   0.0           1.0     1.0  ...            1.0   \n",
       "4                   0.0           1.0     1.0  ...            1.0   \n",
       "\n",
       "   NoDocbcCost  GenHlth  MentHlth  PhysHlth  DiffWalk  Sex   Age  Education  \\\n",
       "0          0.0      3.0       5.0      30.0       0.0  1.0   4.0        6.0   \n",
       "1          0.0      3.0       0.0       0.0       0.0  1.0  12.0        6.0   \n",
       "2          0.0      1.0       0.0      10.0       0.0  1.0  13.0        6.0   \n",
       "3          0.0      3.0       0.0       3.0       0.0  1.0  11.0        6.0   \n",
       "4          0.0      2.0       0.0       0.0       0.0  0.0   8.0        5.0   \n",
       "\n",
       "   Income  \n",
       "0     8.0  \n",
       "1     8.0  \n",
       "2     8.0  \n",
       "3     8.0  \n",
       "4     8.0  \n",
       "\n",
       "[5 rows x 22 columns]"
      ]
     },
     "execution_count": 16,
     "metadata": {},
     "output_type": "execute_result"
    }
   ],
   "source": [
    "df.head()"
   ]
  },
  {
   "cell_type": "markdown",
   "id": "bf81cf5d",
   "metadata": {
    "id": "bf81cf5d"
   },
   "source": [
    "## Data Preprocessing"
   ]
  },
  {
   "cell_type": "code",
   "execution_count": 17,
   "id": "bb019513",
   "metadata": {
    "colab": {
     "base_uri": "https://localhost:8080/"
    },
    "id": "bb019513",
    "outputId": "d821c59a-dcf9-45cb-8c81-70fe2cb4996b"
   },
   "outputs": [
    {
     "data": {
      "text/plain": [
       "Diabetes_binary         0\n",
       "HighBP                  0\n",
       "HighChol                0\n",
       "CholCheck               0\n",
       "BMI                     0\n",
       "Smoker                  0\n",
       "Stroke                  0\n",
       "HeartDiseaseorAttack    0\n",
       "PhysActivity            0\n",
       "Fruits                  0\n",
       "Veggies                 0\n",
       "HvyAlcoholConsump       0\n",
       "AnyHealthcare           0\n",
       "NoDocbcCost             0\n",
       "GenHlth                 0\n",
       "MentHlth                0\n",
       "PhysHlth                0\n",
       "DiffWalk                0\n",
       "Sex                     0\n",
       "Age                     0\n",
       "Education               0\n",
       "Income                  0\n",
       "dtype: int64"
      ]
     },
     "execution_count": 17,
     "metadata": {},
     "output_type": "execute_result"
    }
   ],
   "source": [
    "df.isna().sum()"
   ]
  },
  {
   "cell_type": "code",
   "execution_count": 18,
   "id": "5f58a4d0",
   "metadata": {
    "colab": {
     "base_uri": "https://localhost:8080/"
    },
    "id": "5f58a4d0",
    "outputId": "3bc63e94-2849-4fc1-a88b-b6441a8b8ed5"
   },
   "outputs": [
    {
     "data": {
      "text/plain": [
       "Diabetes_binary         0\n",
       "HighBP                  0\n",
       "HighChol                0\n",
       "CholCheck               0\n",
       "BMI                     0\n",
       "Smoker                  0\n",
       "Stroke                  0\n",
       "HeartDiseaseorAttack    0\n",
       "PhysActivity            0\n",
       "Fruits                  0\n",
       "Veggies                 0\n",
       "HvyAlcoholConsump       0\n",
       "AnyHealthcare           0\n",
       "NoDocbcCost             0\n",
       "GenHlth                 0\n",
       "MentHlth                0\n",
       "PhysHlth                0\n",
       "DiffWalk                0\n",
       "Sex                     0\n",
       "Age                     0\n",
       "Education               0\n",
       "Income                  0\n",
       "dtype: int64"
      ]
     },
     "execution_count": 18,
     "metadata": {},
     "output_type": "execute_result"
    }
   ],
   "source": [
    "df.isnull().sum()"
   ]
  },
  {
   "cell_type": "markdown",
   "id": "9be0eea0",
   "metadata": {
    "id": "9be0eea0"
   },
   "source": [
    "**Note:** Hence no null or NA values in the dataset"
   ]
  },
  {
   "cell_type": "code",
   "execution_count": 19,
   "id": "6b372eeb",
   "metadata": {
    "id": "6b372eeb"
   },
   "outputs": [],
   "source": [
    "df_new = df.drop_duplicates()"
   ]
  },
  {
   "cell_type": "code",
   "execution_count": 20,
   "id": "ec81d924",
   "metadata": {
    "colab": {
     "base_uri": "https://localhost:8080/"
    },
    "id": "ec81d924",
    "outputId": "a4397e1e-6339-4840-eda1-18c51369eec2"
   },
   "outputs": [
    {
     "data": {
      "text/plain": [
       "1635"
      ]
     },
     "execution_count": 20,
     "metadata": {},
     "output_type": "execute_result"
    }
   ],
   "source": [
    "len(df)-len(df_new)"
   ]
  },
  {
   "cell_type": "markdown",
   "id": "4249ef6b",
   "metadata": {
    "id": "4249ef6b"
   },
   "source": [
    "**Note:** 1635 rows discarded due to duplicates"
   ]
  },
  {
   "cell_type": "code",
   "execution_count": 21,
   "id": "1d2ba34c",
   "metadata": {
    "colab": {
     "base_uri": "https://localhost:8080/",
     "height": 488
    },
    "id": "1d2ba34c",
    "outputId": "3c906773-50a8-46f6-80ed-eec63b9b4955"
   },
   "outputs": [
    {
     "data": {
      "text/html": [
       "\n",
       "  <div id=\"df-60654e01-755a-4d2f-8671-aadc68ee98db\">\n",
       "    <div class=\"colab-df-container\">\n",
       "      <div>\n",
       "<style scoped>\n",
       "    .dataframe tbody tr th:only-of-type {\n",
       "        vertical-align: middle;\n",
       "    }\n",
       "\n",
       "    .dataframe tbody tr th {\n",
       "        vertical-align: top;\n",
       "    }\n",
       "\n",
       "    .dataframe thead th {\n",
       "        text-align: right;\n",
       "    }\n",
       "</style>\n",
       "<table border=\"1\" class=\"dataframe\">\n",
       "  <thead>\n",
       "    <tr style=\"text-align: right;\">\n",
       "      <th></th>\n",
       "      <th>Diabetes_binary</th>\n",
       "      <th>HighBP</th>\n",
       "      <th>HighChol</th>\n",
       "      <th>CholCheck</th>\n",
       "      <th>BMI</th>\n",
       "      <th>Smoker</th>\n",
       "      <th>Stroke</th>\n",
       "      <th>HeartDiseaseorAttack</th>\n",
       "      <th>PhysActivity</th>\n",
       "      <th>Fruits</th>\n",
       "      <th>...</th>\n",
       "      <th>AnyHealthcare</th>\n",
       "      <th>NoDocbcCost</th>\n",
       "      <th>GenHlth</th>\n",
       "      <th>MentHlth</th>\n",
       "      <th>PhysHlth</th>\n",
       "      <th>DiffWalk</th>\n",
       "      <th>Sex</th>\n",
       "      <th>Age</th>\n",
       "      <th>Education</th>\n",
       "      <th>Income</th>\n",
       "    </tr>\n",
       "  </thead>\n",
       "  <tbody>\n",
       "    <tr>\n",
       "      <th>0</th>\n",
       "      <td>0.0</td>\n",
       "      <td>1.0</td>\n",
       "      <td>0.0</td>\n",
       "      <td>1.0</td>\n",
       "      <td>26.0</td>\n",
       "      <td>0.0</td>\n",
       "      <td>0.0</td>\n",
       "      <td>0.0</td>\n",
       "      <td>1.0</td>\n",
       "      <td>0.0</td>\n",
       "      <td>...</td>\n",
       "      <td>1.0</td>\n",
       "      <td>0.0</td>\n",
       "      <td>3.0</td>\n",
       "      <td>5.0</td>\n",
       "      <td>30.0</td>\n",
       "      <td>0.0</td>\n",
       "      <td>1.0</td>\n",
       "      <td>4.0</td>\n",
       "      <td>6.0</td>\n",
       "      <td>8.0</td>\n",
       "    </tr>\n",
       "    <tr>\n",
       "      <th>1</th>\n",
       "      <td>0.0</td>\n",
       "      <td>1.0</td>\n",
       "      <td>1.0</td>\n",
       "      <td>1.0</td>\n",
       "      <td>26.0</td>\n",
       "      <td>1.0</td>\n",
       "      <td>1.0</td>\n",
       "      <td>0.0</td>\n",
       "      <td>0.0</td>\n",
       "      <td>1.0</td>\n",
       "      <td>...</td>\n",
       "      <td>1.0</td>\n",
       "      <td>0.0</td>\n",
       "      <td>3.0</td>\n",
       "      <td>0.0</td>\n",
       "      <td>0.0</td>\n",
       "      <td>0.0</td>\n",
       "      <td>1.0</td>\n",
       "      <td>12.0</td>\n",
       "      <td>6.0</td>\n",
       "      <td>8.0</td>\n",
       "    </tr>\n",
       "    <tr>\n",
       "      <th>2</th>\n",
       "      <td>0.0</td>\n",
       "      <td>0.0</td>\n",
       "      <td>0.0</td>\n",
       "      <td>1.0</td>\n",
       "      <td>26.0</td>\n",
       "      <td>0.0</td>\n",
       "      <td>0.0</td>\n",
       "      <td>0.0</td>\n",
       "      <td>1.0</td>\n",
       "      <td>1.0</td>\n",
       "      <td>...</td>\n",
       "      <td>1.0</td>\n",
       "      <td>0.0</td>\n",
       "      <td>1.0</td>\n",
       "      <td>0.0</td>\n",
       "      <td>10.0</td>\n",
       "      <td>0.0</td>\n",
       "      <td>1.0</td>\n",
       "      <td>13.0</td>\n",
       "      <td>6.0</td>\n",
       "      <td>8.0</td>\n",
       "    </tr>\n",
       "    <tr>\n",
       "      <th>3</th>\n",
       "      <td>0.0</td>\n",
       "      <td>1.0</td>\n",
       "      <td>1.0</td>\n",
       "      <td>1.0</td>\n",
       "      <td>28.0</td>\n",
       "      <td>1.0</td>\n",
       "      <td>0.0</td>\n",
       "      <td>0.0</td>\n",
       "      <td>1.0</td>\n",
       "      <td>1.0</td>\n",
       "      <td>...</td>\n",
       "      <td>1.0</td>\n",
       "      <td>0.0</td>\n",
       "      <td>3.0</td>\n",
       "      <td>0.0</td>\n",
       "      <td>3.0</td>\n",
       "      <td>0.0</td>\n",
       "      <td>1.0</td>\n",
       "      <td>11.0</td>\n",
       "      <td>6.0</td>\n",
       "      <td>8.0</td>\n",
       "    </tr>\n",
       "    <tr>\n",
       "      <th>4</th>\n",
       "      <td>0.0</td>\n",
       "      <td>0.0</td>\n",
       "      <td>0.0</td>\n",
       "      <td>1.0</td>\n",
       "      <td>29.0</td>\n",
       "      <td>1.0</td>\n",
       "      <td>0.0</td>\n",
       "      <td>0.0</td>\n",
       "      <td>1.0</td>\n",
       "      <td>1.0</td>\n",
       "      <td>...</td>\n",
       "      <td>1.0</td>\n",
       "      <td>0.0</td>\n",
       "      <td>2.0</td>\n",
       "      <td>0.0</td>\n",
       "      <td>0.0</td>\n",
       "      <td>0.0</td>\n",
       "      <td>0.0</td>\n",
       "      <td>8.0</td>\n",
       "      <td>5.0</td>\n",
       "      <td>8.0</td>\n",
       "    </tr>\n",
       "    <tr>\n",
       "      <th>...</th>\n",
       "      <td>...</td>\n",
       "      <td>...</td>\n",
       "      <td>...</td>\n",
       "      <td>...</td>\n",
       "      <td>...</td>\n",
       "      <td>...</td>\n",
       "      <td>...</td>\n",
       "      <td>...</td>\n",
       "      <td>...</td>\n",
       "      <td>...</td>\n",
       "      <td>...</td>\n",
       "      <td>...</td>\n",
       "      <td>...</td>\n",
       "      <td>...</td>\n",
       "      <td>...</td>\n",
       "      <td>...</td>\n",
       "      <td>...</td>\n",
       "      <td>...</td>\n",
       "      <td>...</td>\n",
       "      <td>...</td>\n",
       "      <td>...</td>\n",
       "    </tr>\n",
       "    <tr>\n",
       "      <th>70687</th>\n",
       "      <td>1.0</td>\n",
       "      <td>0.0</td>\n",
       "      <td>1.0</td>\n",
       "      <td>1.0</td>\n",
       "      <td>37.0</td>\n",
       "      <td>0.0</td>\n",
       "      <td>0.0</td>\n",
       "      <td>0.0</td>\n",
       "      <td>0.0</td>\n",
       "      <td>0.0</td>\n",
       "      <td>...</td>\n",
       "      <td>1.0</td>\n",
       "      <td>0.0</td>\n",
       "      <td>4.0</td>\n",
       "      <td>0.0</td>\n",
       "      <td>0.0</td>\n",
       "      <td>0.0</td>\n",
       "      <td>0.0</td>\n",
       "      <td>6.0</td>\n",
       "      <td>4.0</td>\n",
       "      <td>1.0</td>\n",
       "    </tr>\n",
       "    <tr>\n",
       "      <th>70688</th>\n",
       "      <td>1.0</td>\n",
       "      <td>0.0</td>\n",
       "      <td>1.0</td>\n",
       "      <td>1.0</td>\n",
       "      <td>29.0</td>\n",
       "      <td>1.0</td>\n",
       "      <td>0.0</td>\n",
       "      <td>1.0</td>\n",
       "      <td>0.0</td>\n",
       "      <td>1.0</td>\n",
       "      <td>...</td>\n",
       "      <td>1.0</td>\n",
       "      <td>0.0</td>\n",
       "      <td>2.0</td>\n",
       "      <td>0.0</td>\n",
       "      <td>0.0</td>\n",
       "      <td>1.0</td>\n",
       "      <td>1.0</td>\n",
       "      <td>10.0</td>\n",
       "      <td>3.0</td>\n",
       "      <td>6.0</td>\n",
       "    </tr>\n",
       "    <tr>\n",
       "      <th>70689</th>\n",
       "      <td>1.0</td>\n",
       "      <td>1.0</td>\n",
       "      <td>1.0</td>\n",
       "      <td>1.0</td>\n",
       "      <td>25.0</td>\n",
       "      <td>0.0</td>\n",
       "      <td>0.0</td>\n",
       "      <td>1.0</td>\n",
       "      <td>0.0</td>\n",
       "      <td>1.0</td>\n",
       "      <td>...</td>\n",
       "      <td>1.0</td>\n",
       "      <td>0.0</td>\n",
       "      <td>5.0</td>\n",
       "      <td>15.0</td>\n",
       "      <td>0.0</td>\n",
       "      <td>1.0</td>\n",
       "      <td>0.0</td>\n",
       "      <td>13.0</td>\n",
       "      <td>6.0</td>\n",
       "      <td>4.0</td>\n",
       "    </tr>\n",
       "    <tr>\n",
       "      <th>70690</th>\n",
       "      <td>1.0</td>\n",
       "      <td>1.0</td>\n",
       "      <td>1.0</td>\n",
       "      <td>1.0</td>\n",
       "      <td>18.0</td>\n",
       "      <td>0.0</td>\n",
       "      <td>0.0</td>\n",
       "      <td>0.0</td>\n",
       "      <td>0.0</td>\n",
       "      <td>0.0</td>\n",
       "      <td>...</td>\n",
       "      <td>1.0</td>\n",
       "      <td>0.0</td>\n",
       "      <td>4.0</td>\n",
       "      <td>0.0</td>\n",
       "      <td>0.0</td>\n",
       "      <td>1.0</td>\n",
       "      <td>0.0</td>\n",
       "      <td>11.0</td>\n",
       "      <td>2.0</td>\n",
       "      <td>4.0</td>\n",
       "    </tr>\n",
       "    <tr>\n",
       "      <th>70691</th>\n",
       "      <td>1.0</td>\n",
       "      <td>1.0</td>\n",
       "      <td>1.0</td>\n",
       "      <td>1.0</td>\n",
       "      <td>25.0</td>\n",
       "      <td>0.0</td>\n",
       "      <td>0.0</td>\n",
       "      <td>1.0</td>\n",
       "      <td>1.0</td>\n",
       "      <td>1.0</td>\n",
       "      <td>...</td>\n",
       "      <td>1.0</td>\n",
       "      <td>0.0</td>\n",
       "      <td>2.0</td>\n",
       "      <td>0.0</td>\n",
       "      <td>0.0</td>\n",
       "      <td>0.0</td>\n",
       "      <td>0.0</td>\n",
       "      <td>9.0</td>\n",
       "      <td>6.0</td>\n",
       "      <td>2.0</td>\n",
       "    </tr>\n",
       "  </tbody>\n",
       "</table>\n",
       "<p>69057 rows × 22 columns</p>\n",
       "</div>\n",
       "      <button class=\"colab-df-convert\" onclick=\"convertToInteractive('df-60654e01-755a-4d2f-8671-aadc68ee98db')\"\n",
       "              title=\"Convert this dataframe to an interactive table.\"\n",
       "              style=\"display:none;\">\n",
       "        \n",
       "  <svg xmlns=\"http://www.w3.org/2000/svg\" height=\"24px\"viewBox=\"0 0 24 24\"\n",
       "       width=\"24px\">\n",
       "    <path d=\"M0 0h24v24H0V0z\" fill=\"none\"/>\n",
       "    <path d=\"M18.56 5.44l.94 2.06.94-2.06 2.06-.94-2.06-.94-.94-2.06-.94 2.06-2.06.94zm-11 1L8.5 8.5l.94-2.06 2.06-.94-2.06-.94L8.5 2.5l-.94 2.06-2.06.94zm10 10l.94 2.06.94-2.06 2.06-.94-2.06-.94-.94-2.06-.94 2.06-2.06.94z\"/><path d=\"M17.41 7.96l-1.37-1.37c-.4-.4-.92-.59-1.43-.59-.52 0-1.04.2-1.43.59L10.3 9.45l-7.72 7.72c-.78.78-.78 2.05 0 2.83L4 21.41c.39.39.9.59 1.41.59.51 0 1.02-.2 1.41-.59l7.78-7.78 2.81-2.81c.8-.78.8-2.07 0-2.86zM5.41 20L4 18.59l7.72-7.72 1.47 1.35L5.41 20z\"/>\n",
       "  </svg>\n",
       "      </button>\n",
       "      \n",
       "  <style>\n",
       "    .colab-df-container {\n",
       "      display:flex;\n",
       "      flex-wrap:wrap;\n",
       "      gap: 12px;\n",
       "    }\n",
       "\n",
       "    .colab-df-convert {\n",
       "      background-color: #E8F0FE;\n",
       "      border: none;\n",
       "      border-radius: 50%;\n",
       "      cursor: pointer;\n",
       "      display: none;\n",
       "      fill: #1967D2;\n",
       "      height: 32px;\n",
       "      padding: 0 0 0 0;\n",
       "      width: 32px;\n",
       "    }\n",
       "\n",
       "    .colab-df-convert:hover {\n",
       "      background-color: #E2EBFA;\n",
       "      box-shadow: 0px 1px 2px rgba(60, 64, 67, 0.3), 0px 1px 3px 1px rgba(60, 64, 67, 0.15);\n",
       "      fill: #174EA6;\n",
       "    }\n",
       "\n",
       "    [theme=dark] .colab-df-convert {\n",
       "      background-color: #3B4455;\n",
       "      fill: #D2E3FC;\n",
       "    }\n",
       "\n",
       "    [theme=dark] .colab-df-convert:hover {\n",
       "      background-color: #434B5C;\n",
       "      box-shadow: 0px 1px 3px 1px rgba(0, 0, 0, 0.15);\n",
       "      filter: drop-shadow(0px 1px 2px rgba(0, 0, 0, 0.3));\n",
       "      fill: #FFFFFF;\n",
       "    }\n",
       "  </style>\n",
       "\n",
       "      <script>\n",
       "        const buttonEl =\n",
       "          document.querySelector('#df-60654e01-755a-4d2f-8671-aadc68ee98db button.colab-df-convert');\n",
       "        buttonEl.style.display =\n",
       "          google.colab.kernel.accessAllowed ? 'block' : 'none';\n",
       "\n",
       "        async function convertToInteractive(key) {\n",
       "          const element = document.querySelector('#df-60654e01-755a-4d2f-8671-aadc68ee98db');\n",
       "          const dataTable =\n",
       "            await google.colab.kernel.invokeFunction('convertToInteractive',\n",
       "                                                     [key], {});\n",
       "          if (!dataTable) return;\n",
       "\n",
       "          const docLinkHtml = 'Like what you see? Visit the ' +\n",
       "            '<a target=\"_blank\" href=https://colab.research.google.com/notebooks/data_table.ipynb>data table notebook</a>'\n",
       "            + ' to learn more about interactive tables.';\n",
       "          element.innerHTML = '';\n",
       "          dataTable['output_type'] = 'display_data';\n",
       "          await google.colab.output.renderOutput(dataTable, element);\n",
       "          const docLink = document.createElement('div');\n",
       "          docLink.innerHTML = docLinkHtml;\n",
       "          element.appendChild(docLink);\n",
       "        }\n",
       "      </script>\n",
       "    </div>\n",
       "  </div>\n",
       "  "
      ],
      "text/plain": [
       "       Diabetes_binary  HighBP  HighChol  CholCheck   BMI  Smoker  Stroke  \\\n",
       "0                  0.0     1.0       0.0        1.0  26.0     0.0     0.0   \n",
       "1                  0.0     1.0       1.0        1.0  26.0     1.0     1.0   \n",
       "2                  0.0     0.0       0.0        1.0  26.0     0.0     0.0   \n",
       "3                  0.0     1.0       1.0        1.0  28.0     1.0     0.0   \n",
       "4                  0.0     0.0       0.0        1.0  29.0     1.0     0.0   \n",
       "...                ...     ...       ...        ...   ...     ...     ...   \n",
       "70687              1.0     0.0       1.0        1.0  37.0     0.0     0.0   \n",
       "70688              1.0     0.0       1.0        1.0  29.0     1.0     0.0   \n",
       "70689              1.0     1.0       1.0        1.0  25.0     0.0     0.0   \n",
       "70690              1.0     1.0       1.0        1.0  18.0     0.0     0.0   \n",
       "70691              1.0     1.0       1.0        1.0  25.0     0.0     0.0   \n",
       "\n",
       "       HeartDiseaseorAttack  PhysActivity  Fruits  ...  AnyHealthcare  \\\n",
       "0                       0.0           1.0     0.0  ...            1.0   \n",
       "1                       0.0           0.0     1.0  ...            1.0   \n",
       "2                       0.0           1.0     1.0  ...            1.0   \n",
       "3                       0.0           1.0     1.0  ...            1.0   \n",
       "4                       0.0           1.0     1.0  ...            1.0   \n",
       "...                     ...           ...     ...  ...            ...   \n",
       "70687                   0.0           0.0     0.0  ...            1.0   \n",
       "70688                   1.0           0.0     1.0  ...            1.0   \n",
       "70689                   1.0           0.0     1.0  ...            1.0   \n",
       "70690                   0.0           0.0     0.0  ...            1.0   \n",
       "70691                   1.0           1.0     1.0  ...            1.0   \n",
       "\n",
       "       NoDocbcCost  GenHlth  MentHlth  PhysHlth  DiffWalk  Sex   Age  \\\n",
       "0              0.0      3.0       5.0      30.0       0.0  1.0   4.0   \n",
       "1              0.0      3.0       0.0       0.0       0.0  1.0  12.0   \n",
       "2              0.0      1.0       0.0      10.0       0.0  1.0  13.0   \n",
       "3              0.0      3.0       0.0       3.0       0.0  1.0  11.0   \n",
       "4              0.0      2.0       0.0       0.0       0.0  0.0   8.0   \n",
       "...            ...      ...       ...       ...       ...  ...   ...   \n",
       "70687          0.0      4.0       0.0       0.0       0.0  0.0   6.0   \n",
       "70688          0.0      2.0       0.0       0.0       1.0  1.0  10.0   \n",
       "70689          0.0      5.0      15.0       0.0       1.0  0.0  13.0   \n",
       "70690          0.0      4.0       0.0       0.0       1.0  0.0  11.0   \n",
       "70691          0.0      2.0       0.0       0.0       0.0  0.0   9.0   \n",
       "\n",
       "       Education  Income  \n",
       "0            6.0     8.0  \n",
       "1            6.0     8.0  \n",
       "2            6.0     8.0  \n",
       "3            6.0     8.0  \n",
       "4            5.0     8.0  \n",
       "...          ...     ...  \n",
       "70687        4.0     1.0  \n",
       "70688        3.0     6.0  \n",
       "70689        6.0     4.0  \n",
       "70690        2.0     4.0  \n",
       "70691        6.0     2.0  \n",
       "\n",
       "[69057 rows x 22 columns]"
      ]
     },
     "execution_count": 21,
     "metadata": {},
     "output_type": "execute_result"
    }
   ],
   "source": [
    "df_new"
   ]
  },
  {
   "cell_type": "markdown",
   "id": "8b1f6592",
   "metadata": {
    "id": "8b1f6592"
   },
   "source": [
    "### Understanding Data using Visualizations / EDA"
   ]
  },
  {
   "cell_type": "code",
   "execution_count": 22,
   "id": "212f7e74",
   "metadata": {
    "colab": {
     "base_uri": "https://localhost:8080/",
     "height": 833
    },
    "id": "212f7e74",
    "outputId": "54ddde54-e6f9-496e-daf6-692dc005de6b"
   },
   "outputs": [
    {
     "data": {
      "text/html": [
       "\n",
       "  <div id=\"df-84686a55-e98d-4c4d-a493-593a76c14a7f\">\n",
       "    <div class=\"colab-df-container\">\n",
       "      <div>\n",
       "<style scoped>\n",
       "    .dataframe tbody tr th:only-of-type {\n",
       "        vertical-align: middle;\n",
       "    }\n",
       "\n",
       "    .dataframe tbody tr th {\n",
       "        vertical-align: top;\n",
       "    }\n",
       "\n",
       "    .dataframe thead th {\n",
       "        text-align: right;\n",
       "    }\n",
       "</style>\n",
       "<table border=\"1\" class=\"dataframe\">\n",
       "  <thead>\n",
       "    <tr style=\"text-align: right;\">\n",
       "      <th></th>\n",
       "      <th>Diabetes_binary</th>\n",
       "      <th>HighBP</th>\n",
       "      <th>HighChol</th>\n",
       "      <th>CholCheck</th>\n",
       "      <th>BMI</th>\n",
       "      <th>Smoker</th>\n",
       "      <th>Stroke</th>\n",
       "      <th>HeartDiseaseorAttack</th>\n",
       "      <th>PhysActivity</th>\n",
       "      <th>Fruits</th>\n",
       "      <th>...</th>\n",
       "      <th>AnyHealthcare</th>\n",
       "      <th>NoDocbcCost</th>\n",
       "      <th>GenHlth</th>\n",
       "      <th>MentHlth</th>\n",
       "      <th>PhysHlth</th>\n",
       "      <th>DiffWalk</th>\n",
       "      <th>Sex</th>\n",
       "      <th>Age</th>\n",
       "      <th>Education</th>\n",
       "      <th>Income</th>\n",
       "    </tr>\n",
       "  </thead>\n",
       "  <tbody>\n",
       "    <tr>\n",
       "      <th>Income</th>\n",
       "      <td>-0.212846</td>\n",
       "      <td>-0.176360</td>\n",
       "      <td>-0.098712</td>\n",
       "      <td>0.005067</td>\n",
       "      <td>-0.113706</td>\n",
       "      <td>-0.093897</td>\n",
       "      <td>-0.132637</td>\n",
       "      <td>-0.140702</td>\n",
       "      <td>0.186052</td>\n",
       "      <td>0.068603</td>\n",
       "      <td>...</td>\n",
       "      <td>0.127422</td>\n",
       "      <td>-0.193669</td>\n",
       "      <td>-0.370204</td>\n",
       "      <td>-0.212170</td>\n",
       "      <td>-0.271148</td>\n",
       "      <td>-0.335819</td>\n",
       "      <td>0.161566</td>\n",
       "      <td>-0.124261</td>\n",
       "      <td>0.450376</td>\n",
       "      <td>1.000000</td>\n",
       "    </tr>\n",
       "    <tr>\n",
       "      <th>Education</th>\n",
       "      <td>-0.158522</td>\n",
       "      <td>-0.130037</td>\n",
       "      <td>-0.075364</td>\n",
       "      <td>-0.011266</td>\n",
       "      <td>-0.089112</td>\n",
       "      <td>-0.130790</td>\n",
       "      <td>-0.069602</td>\n",
       "      <td>-0.090403</td>\n",
       "      <td>0.180159</td>\n",
       "      <td>0.089283</td>\n",
       "      <td>...</td>\n",
       "      <td>0.103564</td>\n",
       "      <td>-0.091678</td>\n",
       "      <td>-0.271037</td>\n",
       "      <td>-0.099237</td>\n",
       "      <td>-0.150105</td>\n",
       "      <td>-0.193869</td>\n",
       "      <td>0.042964</td>\n",
       "      <td>-0.101774</td>\n",
       "      <td>1.000000</td>\n",
       "      <td>0.450376</td>\n",
       "    </tr>\n",
       "    <tr>\n",
       "      <th>PhysActivity</th>\n",
       "      <td>-0.150281</td>\n",
       "      <td>-0.128307</td>\n",
       "      <td>-0.084469</td>\n",
       "      <td>-0.010072</td>\n",
       "      <td>-0.164179</td>\n",
       "      <td>-0.072401</td>\n",
       "      <td>-0.076771</td>\n",
       "      <td>-0.093858</td>\n",
       "      <td>1.000000</td>\n",
       "      <td>0.127578</td>\n",
       "      <td>...</td>\n",
       "      <td>0.024168</td>\n",
       "      <td>-0.059079</td>\n",
       "      <td>-0.264142</td>\n",
       "      <td>-0.124535</td>\n",
       "      <td>-0.228329</td>\n",
       "      <td>-0.270988</td>\n",
       "      <td>0.052069</td>\n",
       "      <td>-0.097456</td>\n",
       "      <td>0.180159</td>\n",
       "      <td>0.186052</td>\n",
       "    </tr>\n",
       "    <tr>\n",
       "      <th>HvyAlcoholConsump</th>\n",
       "      <td>-0.098709</td>\n",
       "      <td>-0.029764</td>\n",
       "      <td>-0.027259</td>\n",
       "      <td>-0.026850</td>\n",
       "      <td>-0.060795</td>\n",
       "      <td>0.076394</td>\n",
       "      <td>-0.024496</td>\n",
       "      <td>-0.038745</td>\n",
       "      <td>0.021624</td>\n",
       "      <td>-0.031518</td>\n",
       "      <td>...</td>\n",
       "      <td>-0.012691</td>\n",
       "      <td>0.008453</td>\n",
       "      <td>-0.063705</td>\n",
       "      <td>0.013914</td>\n",
       "      <td>-0.038739</td>\n",
       "      <td>-0.051894</td>\n",
       "      <td>0.015437</td>\n",
       "      <td>-0.059553</td>\n",
       "      <td>0.039971</td>\n",
       "      <td>0.068505</td>\n",
       "    </tr>\n",
       "    <tr>\n",
       "      <th>Veggies</th>\n",
       "      <td>-0.072181</td>\n",
       "      <td>-0.059824</td>\n",
       "      <td>-0.037801</td>\n",
       "      <td>-0.001040</td>\n",
       "      <td>-0.050163</td>\n",
       "      <td>-0.023760</td>\n",
       "      <td>-0.044869</td>\n",
       "      <td>-0.032327</td>\n",
       "      <td>0.143392</td>\n",
       "      <td>0.234505</td>\n",
       "      <td>...</td>\n",
       "      <td>0.026832</td>\n",
       "      <td>-0.033643</td>\n",
       "      <td>-0.106136</td>\n",
       "      <td>-0.047458</td>\n",
       "      <td>-0.060875</td>\n",
       "      <td>-0.078098</td>\n",
       "      <td>-0.053422</td>\n",
       "      <td>-0.015762</td>\n",
       "      <td>0.144755</td>\n",
       "      <td>0.146442</td>\n",
       "    </tr>\n",
       "    <tr>\n",
       "      <th>Fruits</th>\n",
       "      <td>-0.044560</td>\n",
       "      <td>-0.031818</td>\n",
       "      <td>-0.040783</td>\n",
       "      <td>0.015853</td>\n",
       "      <td>-0.076933</td>\n",
       "      <td>-0.068192</td>\n",
       "      <td>-0.005811</td>\n",
       "      <td>-0.014931</td>\n",
       "      <td>0.127578</td>\n",
       "      <td>1.000000</td>\n",
       "      <td>...</td>\n",
       "      <td>0.026964</td>\n",
       "      <td>-0.042215</td>\n",
       "      <td>-0.086836</td>\n",
       "      <td>-0.057019</td>\n",
       "      <td>-0.041836</td>\n",
       "      <td>-0.044017</td>\n",
       "      <td>-0.088017</td>\n",
       "      <td>0.066048</td>\n",
       "      <td>0.089283</td>\n",
       "      <td>0.068603</td>\n",
       "    </tr>\n",
       "    <tr>\n",
       "      <th>AnyHealthcare</th>\n",
       "      <td>0.027034</td>\n",
       "      <td>0.039659</td>\n",
       "      <td>0.034352</td>\n",
       "      <td>0.106549</td>\n",
       "      <td>-0.010527</td>\n",
       "      <td>-0.010228</td>\n",
       "      <td>0.007801</td>\n",
       "      <td>0.017603</td>\n",
       "      <td>0.024168</td>\n",
       "      <td>0.026964</td>\n",
       "      <td>...</td>\n",
       "      <td>1.000000</td>\n",
       "      <td>-0.220451</td>\n",
       "      <td>-0.028477</td>\n",
       "      <td>-0.047689</td>\n",
       "      <td>-0.000416</td>\n",
       "      <td>0.011066</td>\n",
       "      <td>-0.006804</td>\n",
       "      <td>0.139838</td>\n",
       "      <td>0.103564</td>\n",
       "      <td>0.127422</td>\n",
       "    </tr>\n",
       "    <tr>\n",
       "      <th>NoDocbcCost</th>\n",
       "      <td>0.036145</td>\n",
       "      <td>0.021802</td>\n",
       "      <td>0.029976</td>\n",
       "      <td>-0.061975</td>\n",
       "      <td>0.061861</td>\n",
       "      <td>0.031896</td>\n",
       "      <td>0.034305</td>\n",
       "      <td>0.033397</td>\n",
       "      <td>-0.059079</td>\n",
       "      <td>-0.042215</td>\n",
       "      <td>...</td>\n",
       "      <td>-0.220451</td>\n",
       "      <td>1.000000</td>\n",
       "      <td>0.164758</td>\n",
       "      <td>0.191108</td>\n",
       "      <td>0.153952</td>\n",
       "      <td>0.123415</td>\n",
       "      <td>-0.048469</td>\n",
       "      <td>-0.133527</td>\n",
       "      <td>-0.091678</td>\n",
       "      <td>-0.193669</td>\n",
       "    </tr>\n",
       "    <tr>\n",
       "      <th>Sex</th>\n",
       "      <td>0.042538</td>\n",
       "      <td>0.037824</td>\n",
       "      <td>0.013250</td>\n",
       "      <td>-0.008116</td>\n",
       "      <td>-0.002822</td>\n",
       "      <td>0.113422</td>\n",
       "      <td>0.004149</td>\n",
       "      <td>0.099020</td>\n",
       "      <td>0.052069</td>\n",
       "      <td>-0.088017</td>\n",
       "      <td>...</td>\n",
       "      <td>-0.006804</td>\n",
       "      <td>-0.048469</td>\n",
       "      <td>-0.016880</td>\n",
       "      <td>-0.089926</td>\n",
       "      <td>-0.045929</td>\n",
       "      <td>-0.082858</td>\n",
       "      <td>1.000000</td>\n",
       "      <td>-0.004755</td>\n",
       "      <td>0.042964</td>\n",
       "      <td>0.161566</td>\n",
       "    </tr>\n",
       "    <tr>\n",
       "      <th>Smoker</th>\n",
       "      <td>0.075853</td>\n",
       "      <td>0.078123</td>\n",
       "      <td>0.086522</td>\n",
       "      <td>-0.002854</td>\n",
       "      <td>0.002761</td>\n",
       "      <td>1.000000</td>\n",
       "      <td>0.061957</td>\n",
       "      <td>0.120457</td>\n",
       "      <td>-0.072401</td>\n",
       "      <td>-0.068192</td>\n",
       "      <td>...</td>\n",
       "      <td>-0.010228</td>\n",
       "      <td>0.031896</td>\n",
       "      <td>0.140658</td>\n",
       "      <td>0.086354</td>\n",
       "      <td>0.114730</td>\n",
       "      <td>0.113713</td>\n",
       "      <td>0.113422</td>\n",
       "      <td>0.099699</td>\n",
       "      <td>-0.130790</td>\n",
       "      <td>-0.093897</td>\n",
       "    </tr>\n",
       "    <tr>\n",
       "      <th>MentHlth</th>\n",
       "      <td>0.080688</td>\n",
       "      <td>0.058133</td>\n",
       "      <td>0.079929</td>\n",
       "      <td>-0.009365</td>\n",
       "      <td>0.099286</td>\n",
       "      <td>0.086354</td>\n",
       "      <td>0.084800</td>\n",
       "      <td>0.071530</td>\n",
       "      <td>-0.124535</td>\n",
       "      <td>-0.057019</td>\n",
       "      <td>...</td>\n",
       "      <td>-0.047689</td>\n",
       "      <td>0.191108</td>\n",
       "      <td>0.310093</td>\n",
       "      <td>1.000000</td>\n",
       "      <td>0.376625</td>\n",
       "      <td>0.246948</td>\n",
       "      <td>-0.089926</td>\n",
       "      <td>-0.106158</td>\n",
       "      <td>-0.099237</td>\n",
       "      <td>-0.212170</td>\n",
       "    </tr>\n",
       "    <tr>\n",
       "      <th>CholCheck</th>\n",
       "      <td>0.118900</td>\n",
       "      <td>0.106593</td>\n",
       "      <td>0.088231</td>\n",
       "      <td>1.000000</td>\n",
       "      <td>0.047779</td>\n",
       "      <td>-0.002854</td>\n",
       "      <td>0.023368</td>\n",
       "      <td>0.044795</td>\n",
       "      <td>-0.010072</td>\n",
       "      <td>0.015853</td>\n",
       "      <td>...</td>\n",
       "      <td>0.106549</td>\n",
       "      <td>-0.061975</td>\n",
       "      <td>0.063116</td>\n",
       "      <td>-0.009365</td>\n",
       "      <td>0.036442</td>\n",
       "      <td>0.046421</td>\n",
       "      <td>-0.008116</td>\n",
       "      <td>0.103414</td>\n",
       "      <td>-0.011266</td>\n",
       "      <td>0.005067</td>\n",
       "    </tr>\n",
       "    <tr>\n",
       "      <th>Stroke</th>\n",
       "      <td>0.122727</td>\n",
       "      <td>0.126869</td>\n",
       "      <td>0.098166</td>\n",
       "      <td>0.023368</td>\n",
       "      <td>0.019503</td>\n",
       "      <td>0.061957</td>\n",
       "      <td>1.000000</td>\n",
       "      <td>0.222062</td>\n",
       "      <td>-0.076771</td>\n",
       "      <td>-0.005811</td>\n",
       "      <td>...</td>\n",
       "      <td>0.007801</td>\n",
       "      <td>0.034305</td>\n",
       "      <td>0.186537</td>\n",
       "      <td>0.084800</td>\n",
       "      <td>0.161824</td>\n",
       "      <td>0.189714</td>\n",
       "      <td>0.004149</td>\n",
       "      <td>0.123344</td>\n",
       "      <td>-0.069602</td>\n",
       "      <td>-0.132637</td>\n",
       "    </tr>\n",
       "    <tr>\n",
       "      <th>PhysHlth</th>\n",
       "      <td>0.206868</td>\n",
       "      <td>0.167821</td>\n",
       "      <td>0.138266</td>\n",
       "      <td>0.036442</td>\n",
       "      <td>0.155661</td>\n",
       "      <td>0.114730</td>\n",
       "      <td>0.161824</td>\n",
       "      <td>0.194963</td>\n",
       "      <td>-0.228329</td>\n",
       "      <td>-0.041836</td>\n",
       "      <td>...</td>\n",
       "      <td>-0.000416</td>\n",
       "      <td>0.153952</td>\n",
       "      <td>0.550138</td>\n",
       "      <td>0.376625</td>\n",
       "      <td>1.000000</td>\n",
       "      <td>0.484092</td>\n",
       "      <td>-0.045929</td>\n",
       "      <td>0.081847</td>\n",
       "      <td>-0.150105</td>\n",
       "      <td>-0.271148</td>\n",
       "    </tr>\n",
       "    <tr>\n",
       "      <th>HeartDiseaseorAttack</th>\n",
       "      <td>0.207229</td>\n",
       "      <td>0.206776</td>\n",
       "      <td>0.178207</td>\n",
       "      <td>0.044795</td>\n",
       "      <td>0.055345</td>\n",
       "      <td>0.120457</td>\n",
       "      <td>0.222062</td>\n",
       "      <td>1.000000</td>\n",
       "      <td>-0.093858</td>\n",
       "      <td>-0.014931</td>\n",
       "      <td>...</td>\n",
       "      <td>0.017603</td>\n",
       "      <td>0.033397</td>\n",
       "      <td>0.271502</td>\n",
       "      <td>0.071530</td>\n",
       "      <td>0.194963</td>\n",
       "      <td>0.229188</td>\n",
       "      <td>0.099020</td>\n",
       "      <td>0.220790</td>\n",
       "      <td>-0.090403</td>\n",
       "      <td>-0.140702</td>\n",
       "    </tr>\n",
       "    <tr>\n",
       "      <th>DiffWalk</th>\n",
       "      <td>0.267082</td>\n",
       "      <td>0.229638</td>\n",
       "      <td>0.157859</td>\n",
       "      <td>0.046421</td>\n",
       "      <td>0.240667</td>\n",
       "      <td>0.113713</td>\n",
       "      <td>0.189714</td>\n",
       "      <td>0.229188</td>\n",
       "      <td>-0.270988</td>\n",
       "      <td>-0.044017</td>\n",
       "      <td>...</td>\n",
       "      <td>0.011066</td>\n",
       "      <td>0.123415</td>\n",
       "      <td>0.472338</td>\n",
       "      <td>0.246948</td>\n",
       "      <td>0.484092</td>\n",
       "      <td>1.000000</td>\n",
       "      <td>-0.082858</td>\n",
       "      <td>0.193669</td>\n",
       "      <td>-0.193869</td>\n",
       "      <td>-0.335819</td>\n",
       "    </tr>\n",
       "    <tr>\n",
       "      <th>Age</th>\n",
       "      <td>0.274550</td>\n",
       "      <td>0.333721</td>\n",
       "      <td>0.235779</td>\n",
       "      <td>0.103414</td>\n",
       "      <td>-0.045130</td>\n",
       "      <td>0.099699</td>\n",
       "      <td>0.123344</td>\n",
       "      <td>0.220790</td>\n",
       "      <td>-0.097456</td>\n",
       "      <td>0.066048</td>\n",
       "      <td>...</td>\n",
       "      <td>0.139838</td>\n",
       "      <td>-0.133527</td>\n",
       "      <td>0.149216</td>\n",
       "      <td>-0.106158</td>\n",
       "      <td>0.081847</td>\n",
       "      <td>0.193669</td>\n",
       "      <td>-0.004755</td>\n",
       "      <td>1.000000</td>\n",
       "      <td>-0.101774</td>\n",
       "      <td>-0.124261</td>\n",
       "    </tr>\n",
       "    <tr>\n",
       "      <th>HighChol</th>\n",
       "      <td>0.281399</td>\n",
       "      <td>0.308987</td>\n",
       "      <td>1.000000</td>\n",
       "      <td>0.088231</td>\n",
       "      <td>0.123917</td>\n",
       "      <td>0.086522</td>\n",
       "      <td>0.098166</td>\n",
       "      <td>0.178207</td>\n",
       "      <td>-0.084469</td>\n",
       "      <td>-0.040783</td>\n",
       "      <td>...</td>\n",
       "      <td>0.034352</td>\n",
       "      <td>0.029976</td>\n",
       "      <td>0.227588</td>\n",
       "      <td>0.079929</td>\n",
       "      <td>0.138266</td>\n",
       "      <td>0.157859</td>\n",
       "      <td>0.013250</td>\n",
       "      <td>0.235779</td>\n",
       "      <td>-0.075364</td>\n",
       "      <td>-0.098712</td>\n",
       "    </tr>\n",
       "    <tr>\n",
       "      <th>BMI</th>\n",
       "      <td>0.285643</td>\n",
       "      <td>0.232372</td>\n",
       "      <td>0.123917</td>\n",
       "      <td>0.047779</td>\n",
       "      <td>1.000000</td>\n",
       "      <td>0.002761</td>\n",
       "      <td>0.019503</td>\n",
       "      <td>0.055345</td>\n",
       "      <td>-0.164179</td>\n",
       "      <td>-0.076933</td>\n",
       "      <td>...</td>\n",
       "      <td>-0.010527</td>\n",
       "      <td>0.061861</td>\n",
       "      <td>0.256642</td>\n",
       "      <td>0.099286</td>\n",
       "      <td>0.155661</td>\n",
       "      <td>0.240667</td>\n",
       "      <td>-0.002822</td>\n",
       "      <td>-0.045130</td>\n",
       "      <td>-0.089112</td>\n",
       "      <td>-0.113706</td>\n",
       "    </tr>\n",
       "    <tr>\n",
       "      <th>HighBP</th>\n",
       "      <td>0.372048</td>\n",
       "      <td>1.000000</td>\n",
       "      <td>0.308987</td>\n",
       "      <td>0.106593</td>\n",
       "      <td>0.232372</td>\n",
       "      <td>0.078123</td>\n",
       "      <td>0.126869</td>\n",
       "      <td>0.206776</td>\n",
       "      <td>-0.128307</td>\n",
       "      <td>-0.031818</td>\n",
       "      <td>...</td>\n",
       "      <td>0.039659</td>\n",
       "      <td>0.021802</td>\n",
       "      <td>0.308459</td>\n",
       "      <td>0.058133</td>\n",
       "      <td>0.167821</td>\n",
       "      <td>0.229638</td>\n",
       "      <td>0.037824</td>\n",
       "      <td>0.333721</td>\n",
       "      <td>-0.130037</td>\n",
       "      <td>-0.176360</td>\n",
       "    </tr>\n",
       "    <tr>\n",
       "      <th>GenHlth</th>\n",
       "      <td>0.396571</td>\n",
       "      <td>0.308459</td>\n",
       "      <td>0.227588</td>\n",
       "      <td>0.063116</td>\n",
       "      <td>0.256642</td>\n",
       "      <td>0.140658</td>\n",
       "      <td>0.186537</td>\n",
       "      <td>0.271502</td>\n",
       "      <td>-0.264142</td>\n",
       "      <td>-0.086836</td>\n",
       "      <td>...</td>\n",
       "      <td>-0.028477</td>\n",
       "      <td>0.164758</td>\n",
       "      <td>1.000000</td>\n",
       "      <td>0.310093</td>\n",
       "      <td>0.550138</td>\n",
       "      <td>0.472338</td>\n",
       "      <td>-0.016880</td>\n",
       "      <td>0.149216</td>\n",
       "      <td>-0.271037</td>\n",
       "      <td>-0.370204</td>\n",
       "    </tr>\n",
       "    <tr>\n",
       "      <th>Diabetes_binary</th>\n",
       "      <td>1.000000</td>\n",
       "      <td>0.372048</td>\n",
       "      <td>0.281399</td>\n",
       "      <td>0.118900</td>\n",
       "      <td>0.285643</td>\n",
       "      <td>0.075853</td>\n",
       "      <td>0.122727</td>\n",
       "      <td>0.207229</td>\n",
       "      <td>-0.150281</td>\n",
       "      <td>-0.044560</td>\n",
       "      <td>...</td>\n",
       "      <td>0.027034</td>\n",
       "      <td>0.036145</td>\n",
       "      <td>0.396571</td>\n",
       "      <td>0.080688</td>\n",
       "      <td>0.206868</td>\n",
       "      <td>0.267082</td>\n",
       "      <td>0.042538</td>\n",
       "      <td>0.274550</td>\n",
       "      <td>-0.158522</td>\n",
       "      <td>-0.212846</td>\n",
       "    </tr>\n",
       "  </tbody>\n",
       "</table>\n",
       "<p>22 rows × 22 columns</p>\n",
       "</div>\n",
       "      <button class=\"colab-df-convert\" onclick=\"convertToInteractive('df-84686a55-e98d-4c4d-a493-593a76c14a7f')\"\n",
       "              title=\"Convert this dataframe to an interactive table.\"\n",
       "              style=\"display:none;\">\n",
       "        \n",
       "  <svg xmlns=\"http://www.w3.org/2000/svg\" height=\"24px\"viewBox=\"0 0 24 24\"\n",
       "       width=\"24px\">\n",
       "    <path d=\"M0 0h24v24H0V0z\" fill=\"none\"/>\n",
       "    <path d=\"M18.56 5.44l.94 2.06.94-2.06 2.06-.94-2.06-.94-.94-2.06-.94 2.06-2.06.94zm-11 1L8.5 8.5l.94-2.06 2.06-.94-2.06-.94L8.5 2.5l-.94 2.06-2.06.94zm10 10l.94 2.06.94-2.06 2.06-.94-2.06-.94-.94-2.06-.94 2.06-2.06.94z\"/><path d=\"M17.41 7.96l-1.37-1.37c-.4-.4-.92-.59-1.43-.59-.52 0-1.04.2-1.43.59L10.3 9.45l-7.72 7.72c-.78.78-.78 2.05 0 2.83L4 21.41c.39.39.9.59 1.41.59.51 0 1.02-.2 1.41-.59l7.78-7.78 2.81-2.81c.8-.78.8-2.07 0-2.86zM5.41 20L4 18.59l7.72-7.72 1.47 1.35L5.41 20z\"/>\n",
       "  </svg>\n",
       "      </button>\n",
       "      \n",
       "  <style>\n",
       "    .colab-df-container {\n",
       "      display:flex;\n",
       "      flex-wrap:wrap;\n",
       "      gap: 12px;\n",
       "    }\n",
       "\n",
       "    .colab-df-convert {\n",
       "      background-color: #E8F0FE;\n",
       "      border: none;\n",
       "      border-radius: 50%;\n",
       "      cursor: pointer;\n",
       "      display: none;\n",
       "      fill: #1967D2;\n",
       "      height: 32px;\n",
       "      padding: 0 0 0 0;\n",
       "      width: 32px;\n",
       "    }\n",
       "\n",
       "    .colab-df-convert:hover {\n",
       "      background-color: #E2EBFA;\n",
       "      box-shadow: 0px 1px 2px rgba(60, 64, 67, 0.3), 0px 1px 3px 1px rgba(60, 64, 67, 0.15);\n",
       "      fill: #174EA6;\n",
       "    }\n",
       "\n",
       "    [theme=dark] .colab-df-convert {\n",
       "      background-color: #3B4455;\n",
       "      fill: #D2E3FC;\n",
       "    }\n",
       "\n",
       "    [theme=dark] .colab-df-convert:hover {\n",
       "      background-color: #434B5C;\n",
       "      box-shadow: 0px 1px 3px 1px rgba(0, 0, 0, 0.15);\n",
       "      filter: drop-shadow(0px 1px 2px rgba(0, 0, 0, 0.3));\n",
       "      fill: #FFFFFF;\n",
       "    }\n",
       "  </style>\n",
       "\n",
       "      <script>\n",
       "        const buttonEl =\n",
       "          document.querySelector('#df-84686a55-e98d-4c4d-a493-593a76c14a7f button.colab-df-convert');\n",
       "        buttonEl.style.display =\n",
       "          google.colab.kernel.accessAllowed ? 'block' : 'none';\n",
       "\n",
       "        async function convertToInteractive(key) {\n",
       "          const element = document.querySelector('#df-84686a55-e98d-4c4d-a493-593a76c14a7f');\n",
       "          const dataTable =\n",
       "            await google.colab.kernel.invokeFunction('convertToInteractive',\n",
       "                                                     [key], {});\n",
       "          if (!dataTable) return;\n",
       "\n",
       "          const docLinkHtml = 'Like what you see? Visit the ' +\n",
       "            '<a target=\"_blank\" href=https://colab.research.google.com/notebooks/data_table.ipynb>data table notebook</a>'\n",
       "            + ' to learn more about interactive tables.';\n",
       "          element.innerHTML = '';\n",
       "          dataTable['output_type'] = 'display_data';\n",
       "          await google.colab.output.renderOutput(dataTable, element);\n",
       "          const docLink = document.createElement('div');\n",
       "          docLink.innerHTML = docLinkHtml;\n",
       "          element.appendChild(docLink);\n",
       "        }\n",
       "      </script>\n",
       "    </div>\n",
       "  </div>\n",
       "  "
      ],
      "text/plain": [
       "                      Diabetes_binary    HighBP  HighChol  CholCheck  \\\n",
       "Income                      -0.212846 -0.176360 -0.098712   0.005067   \n",
       "Education                   -0.158522 -0.130037 -0.075364  -0.011266   \n",
       "PhysActivity                -0.150281 -0.128307 -0.084469  -0.010072   \n",
       "HvyAlcoholConsump           -0.098709 -0.029764 -0.027259  -0.026850   \n",
       "Veggies                     -0.072181 -0.059824 -0.037801  -0.001040   \n",
       "Fruits                      -0.044560 -0.031818 -0.040783   0.015853   \n",
       "AnyHealthcare                0.027034  0.039659  0.034352   0.106549   \n",
       "NoDocbcCost                  0.036145  0.021802  0.029976  -0.061975   \n",
       "Sex                          0.042538  0.037824  0.013250  -0.008116   \n",
       "Smoker                       0.075853  0.078123  0.086522  -0.002854   \n",
       "MentHlth                     0.080688  0.058133  0.079929  -0.009365   \n",
       "CholCheck                    0.118900  0.106593  0.088231   1.000000   \n",
       "Stroke                       0.122727  0.126869  0.098166   0.023368   \n",
       "PhysHlth                     0.206868  0.167821  0.138266   0.036442   \n",
       "HeartDiseaseorAttack         0.207229  0.206776  0.178207   0.044795   \n",
       "DiffWalk                     0.267082  0.229638  0.157859   0.046421   \n",
       "Age                          0.274550  0.333721  0.235779   0.103414   \n",
       "HighChol                     0.281399  0.308987  1.000000   0.088231   \n",
       "BMI                          0.285643  0.232372  0.123917   0.047779   \n",
       "HighBP                       0.372048  1.000000  0.308987   0.106593   \n",
       "GenHlth                      0.396571  0.308459  0.227588   0.063116   \n",
       "Diabetes_binary              1.000000  0.372048  0.281399   0.118900   \n",
       "\n",
       "                           BMI    Smoker    Stroke  HeartDiseaseorAttack  \\\n",
       "Income               -0.113706 -0.093897 -0.132637             -0.140702   \n",
       "Education            -0.089112 -0.130790 -0.069602             -0.090403   \n",
       "PhysActivity         -0.164179 -0.072401 -0.076771             -0.093858   \n",
       "HvyAlcoholConsump    -0.060795  0.076394 -0.024496             -0.038745   \n",
       "Veggies              -0.050163 -0.023760 -0.044869             -0.032327   \n",
       "Fruits               -0.076933 -0.068192 -0.005811             -0.014931   \n",
       "AnyHealthcare        -0.010527 -0.010228  0.007801              0.017603   \n",
       "NoDocbcCost           0.061861  0.031896  0.034305              0.033397   \n",
       "Sex                  -0.002822  0.113422  0.004149              0.099020   \n",
       "Smoker                0.002761  1.000000  0.061957              0.120457   \n",
       "MentHlth              0.099286  0.086354  0.084800              0.071530   \n",
       "CholCheck             0.047779 -0.002854  0.023368              0.044795   \n",
       "Stroke                0.019503  0.061957  1.000000              0.222062   \n",
       "PhysHlth              0.155661  0.114730  0.161824              0.194963   \n",
       "HeartDiseaseorAttack  0.055345  0.120457  0.222062              1.000000   \n",
       "DiffWalk              0.240667  0.113713  0.189714              0.229188   \n",
       "Age                  -0.045130  0.099699  0.123344              0.220790   \n",
       "HighChol              0.123917  0.086522  0.098166              0.178207   \n",
       "BMI                   1.000000  0.002761  0.019503              0.055345   \n",
       "HighBP                0.232372  0.078123  0.126869              0.206776   \n",
       "GenHlth               0.256642  0.140658  0.186537              0.271502   \n",
       "Diabetes_binary       0.285643  0.075853  0.122727              0.207229   \n",
       "\n",
       "                      PhysActivity    Fruits  ...  AnyHealthcare  NoDocbcCost  \\\n",
       "Income                    0.186052  0.068603  ...       0.127422    -0.193669   \n",
       "Education                 0.180159  0.089283  ...       0.103564    -0.091678   \n",
       "PhysActivity              1.000000  0.127578  ...       0.024168    -0.059079   \n",
       "HvyAlcoholConsump         0.021624 -0.031518  ...      -0.012691     0.008453   \n",
       "Veggies                   0.143392  0.234505  ...       0.026832    -0.033643   \n",
       "Fruits                    0.127578  1.000000  ...       0.026964    -0.042215   \n",
       "AnyHealthcare             0.024168  0.026964  ...       1.000000    -0.220451   \n",
       "NoDocbcCost              -0.059079 -0.042215  ...      -0.220451     1.000000   \n",
       "Sex                       0.052069 -0.088017  ...      -0.006804    -0.048469   \n",
       "Smoker                   -0.072401 -0.068192  ...      -0.010228     0.031896   \n",
       "MentHlth                 -0.124535 -0.057019  ...      -0.047689     0.191108   \n",
       "CholCheck                -0.010072  0.015853  ...       0.106549    -0.061975   \n",
       "Stroke                   -0.076771 -0.005811  ...       0.007801     0.034305   \n",
       "PhysHlth                 -0.228329 -0.041836  ...      -0.000416     0.153952   \n",
       "HeartDiseaseorAttack     -0.093858 -0.014931  ...       0.017603     0.033397   \n",
       "DiffWalk                 -0.270988 -0.044017  ...       0.011066     0.123415   \n",
       "Age                      -0.097456  0.066048  ...       0.139838    -0.133527   \n",
       "HighChol                 -0.084469 -0.040783  ...       0.034352     0.029976   \n",
       "BMI                      -0.164179 -0.076933  ...      -0.010527     0.061861   \n",
       "HighBP                   -0.128307 -0.031818  ...       0.039659     0.021802   \n",
       "GenHlth                  -0.264142 -0.086836  ...      -0.028477     0.164758   \n",
       "Diabetes_binary          -0.150281 -0.044560  ...       0.027034     0.036145   \n",
       "\n",
       "                       GenHlth  MentHlth  PhysHlth  DiffWalk       Sex  \\\n",
       "Income               -0.370204 -0.212170 -0.271148 -0.335819  0.161566   \n",
       "Education            -0.271037 -0.099237 -0.150105 -0.193869  0.042964   \n",
       "PhysActivity         -0.264142 -0.124535 -0.228329 -0.270988  0.052069   \n",
       "HvyAlcoholConsump    -0.063705  0.013914 -0.038739 -0.051894  0.015437   \n",
       "Veggies              -0.106136 -0.047458 -0.060875 -0.078098 -0.053422   \n",
       "Fruits               -0.086836 -0.057019 -0.041836 -0.044017 -0.088017   \n",
       "AnyHealthcare        -0.028477 -0.047689 -0.000416  0.011066 -0.006804   \n",
       "NoDocbcCost           0.164758  0.191108  0.153952  0.123415 -0.048469   \n",
       "Sex                  -0.016880 -0.089926 -0.045929 -0.082858  1.000000   \n",
       "Smoker                0.140658  0.086354  0.114730  0.113713  0.113422   \n",
       "MentHlth              0.310093  1.000000  0.376625  0.246948 -0.089926   \n",
       "CholCheck             0.063116 -0.009365  0.036442  0.046421 -0.008116   \n",
       "Stroke                0.186537  0.084800  0.161824  0.189714  0.004149   \n",
       "PhysHlth              0.550138  0.376625  1.000000  0.484092 -0.045929   \n",
       "HeartDiseaseorAttack  0.271502  0.071530  0.194963  0.229188  0.099020   \n",
       "DiffWalk              0.472338  0.246948  0.484092  1.000000 -0.082858   \n",
       "Age                   0.149216 -0.106158  0.081847  0.193669 -0.004755   \n",
       "HighChol              0.227588  0.079929  0.138266  0.157859  0.013250   \n",
       "BMI                   0.256642  0.099286  0.155661  0.240667 -0.002822   \n",
       "HighBP                0.308459  0.058133  0.167821  0.229638  0.037824   \n",
       "GenHlth               1.000000  0.310093  0.550138  0.472338 -0.016880   \n",
       "Diabetes_binary       0.396571  0.080688  0.206868  0.267082  0.042538   \n",
       "\n",
       "                           Age  Education    Income  \n",
       "Income               -0.124261   0.450376  1.000000  \n",
       "Education            -0.101774   1.000000  0.450376  \n",
       "PhysActivity         -0.097456   0.180159  0.186052  \n",
       "HvyAlcoholConsump    -0.059553   0.039971  0.068505  \n",
       "Veggies              -0.015762   0.144755  0.146442  \n",
       "Fruits                0.066048   0.089283  0.068603  \n",
       "AnyHealthcare         0.139838   0.103564  0.127422  \n",
       "NoDocbcCost          -0.133527  -0.091678 -0.193669  \n",
       "Sex                  -0.004755   0.042964  0.161566  \n",
       "Smoker                0.099699  -0.130790 -0.093897  \n",
       "MentHlth             -0.106158  -0.099237 -0.212170  \n",
       "CholCheck             0.103414  -0.011266  0.005067  \n",
       "Stroke                0.123344  -0.069602 -0.132637  \n",
       "PhysHlth              0.081847  -0.150105 -0.271148  \n",
       "HeartDiseaseorAttack  0.220790  -0.090403 -0.140702  \n",
       "DiffWalk              0.193669  -0.193869 -0.335819  \n",
       "Age                   1.000000  -0.101774 -0.124261  \n",
       "HighChol              0.235779  -0.075364 -0.098712  \n",
       "BMI                  -0.045130  -0.089112 -0.113706  \n",
       "HighBP                0.333721  -0.130037 -0.176360  \n",
       "GenHlth               0.149216  -0.271037 -0.370204  \n",
       "Diabetes_binary       0.274550  -0.158522 -0.212846  \n",
       "\n",
       "[22 rows x 22 columns]"
      ]
     },
     "execution_count": 22,
     "metadata": {},
     "output_type": "execute_result"
    }
   ],
   "source": [
    "df_new.corr().sort_values('Diabetes_binary')"
   ]
  },
  {
   "cell_type": "code",
   "execution_count": 25,
   "id": "f1de8133",
   "metadata": {
    "colab": {
     "base_uri": "https://localhost:8080/",
     "height": 707
    },
    "id": "f1de8133",
    "outputId": "d6f51712-800b-4008-ec79-697f3c2814ea"
   },
   "outputs": [
    {
     "data": {
      "image/png": "[encoded data removed]",
      "text/plain": [
       "<Figure size 1440x720 with 2 Axes>"
      ]
     },
     "metadata": {
      "needs_background": "light"
     },
     "output_type": "display_data"
    }
   ],
   "source": [
    "plt.figure(figsize = (20,10))\n",
    "sns.heatmap(df_new.corr(), cmap=\"RdBu\", annot=True)\n",
    "plt.title(\"Correlation Between Features\", fontweight = 'bold')\n",
    "plt.show()"
   ]
  },
  {
   "cell_type": "code",
   "execution_count": 26,
   "id": "056e5e27",
   "metadata": {
    "colab": {
     "base_uri": "https://localhost:8080/"
    },
    "id": "056e5e27",
    "outputId": "4b2ef012-16fb-4854-e89e-403dadcfed6b"
   },
   "outputs": [
    {
     "name": "stdout",
     "output_type": "stream",
     "text": [
      "{'HighBP': 2, 'HighChol': 2, 'CholCheck': 2, 'BMI': 80, 'Smoker': 2, 'Stroke': 2, 'HeartDiseaseorAttack': 2, 'PhysActivity': 2, 'Fruits': 2, 'Veggies': 2, 'HvyAlcoholConsump': 2, 'AnyHealthcare': 2, 'NoDocbcCost': 2, 'GenHlth': 5, 'MentHlth': 31, 'PhysHlth': 31, 'DiffWalk': 2, 'Sex': 2, 'Age': 13, 'Education': 6, 'Income': 8}\n"
     ]
    }
   ],
   "source": [
    "column_details = {}\n",
    "for column in df.columns:\n",
    "    if column != \"Diabetes_binary\":\n",
    "        column_details[column] = df.groupby([column]).count()[\"Diabetes_binary\"].shape[0]\n",
    "print(column_details)"
   ]
  },
  {
   "cell_type": "markdown",
   "id": "b6dc778d",
   "metadata": {
    "id": "b6dc778d"
   },
   "source": [
    "**Note:** It Shows all the unique values in each column"
   ]
  },
  {
   "cell_type": "code",
   "execution_count": 27,
   "id": "3c4fb4f0",
   "metadata": {
    "colab": {
     "base_uri": "https://localhost:8080/",
     "height": 1000
    },
    "id": "3c4fb4f0",
    "outputId": "adabdd0c-be1a-45d9-ef4d-9025dc58bddb"
   },
   "outputs": [
    {
     "name": "stderr",
     "output_type": "stream",
     "text": [
      "/usr/local/lib/python3.7/dist-packages/seaborn/_decorators.py:43: FutureWarning: Pass the following variables as keyword args: x, y. From version 0.12, the only valid positional argument will be `data`, and passing other arguments without an explicit keyword will result in an error or misinterpretation.\n",
      "  FutureWarning\n",
      "/usr/local/lib/python3.7/dist-packages/seaborn/_decorators.py:43: FutureWarning: Pass the following variables as keyword args: x, y. From version 0.12, the only valid positional argument will be `data`, and passing other arguments without an explicit keyword will result in an error or misinterpretation.\n",
      "  FutureWarning\n",
      "/usr/local/lib/python3.7/dist-packages/seaborn/_decorators.py:43: FutureWarning: Pass the following variables as keyword args: x, y. From version 0.12, the only valid positional argument will be `data`, and passing other arguments without an explicit keyword will result in an error or misinterpretation.\n",
      "  FutureWarning\n",
      "/usr/local/lib/python3.7/dist-packages/seaborn/_decorators.py:43: FutureWarning: Pass the following variables as keyword args: x, y. From version 0.12, the only valid positional argument will be `data`, and passing other arguments without an explicit keyword will result in an error or misinterpretation.\n",
      "  FutureWarning\n",
      "/usr/local/lib/python3.7/dist-packages/seaborn/_decorators.py:43: FutureWarning: Pass the following variables as keyword args: x, y. From version 0.12, the only valid positional argument will be `data`, and passing other arguments without an explicit keyword will result in an error or misinterpretation.\n",
      "  FutureWarning\n",
      "/usr/local/lib/python3.7/dist-packages/seaborn/_decorators.py:43: FutureWarning: Pass the following variables as keyword args: x, y. From version 0.12, the only valid positional argument will be `data`, and passing other arguments without an explicit keyword will result in an error or misinterpretation.\n",
      "  FutureWarning\n",
      "/usr/local/lib/python3.7/dist-packages/seaborn/_decorators.py:43: FutureWarning: Pass the following variables as keyword args: x, y. From version 0.12, the only valid positional argument will be `data`, and passing other arguments without an explicit keyword will result in an error or misinterpretation.\n",
      "  FutureWarning\n",
      "/usr/local/lib/python3.7/dist-packages/seaborn/_decorators.py:43: FutureWarning: Pass the following variables as keyword args: x, y. From version 0.12, the only valid positional argument will be `data`, and passing other arguments without an explicit keyword will result in an error or misinterpretation.\n",
      "  FutureWarning\n",
      "/usr/local/lib/python3.7/dist-packages/seaborn/_decorators.py:43: FutureWarning: Pass the following variables as keyword args: x, y. From version 0.12, the only valid positional argument will be `data`, and passing other arguments without an explicit keyword will result in an error or misinterpretation.\n",
      "  FutureWarning\n",
      "/usr/local/lib/python3.7/dist-packages/seaborn/_decorators.py:43: FutureWarning: Pass the following variables as keyword args: x, y. From version 0.12, the only valid positional argument will be `data`, and passing other arguments without an explicit keyword will result in an error or misinterpretation.\n",
      "  FutureWarning\n",
      "/usr/local/lib/python3.7/dist-packages/seaborn/_decorators.py:43: FutureWarning: Pass the following variables as keyword args: x, y. From version 0.12, the only valid positional argument will be `data`, and passing other arguments without an explicit keyword will result in an error or misinterpretation.\n",
      "  FutureWarning\n",
      "/usr/local/lib/python3.7/dist-packages/seaborn/_decorators.py:43: FutureWarning: Pass the following variables as keyword args: x, y. From version 0.12, the only valid positional argument will be `data`, and passing other arguments without an explicit keyword will result in an error or misinterpretation.\n",
      "  FutureWarning\n",
      "/usr/local/lib/python3.7/dist-packages/seaborn/_decorators.py:43: FutureWarning: Pass the following variables as keyword args: x, y. From version 0.12, the only valid positional argument will be `data`, and passing other arguments without an explicit keyword will result in an error or misinterpretation.\n",
      "  FutureWarning\n",
      "/usr/local/lib/python3.7/dist-packages/seaborn/_decorators.py:43: FutureWarning: Pass the following variables as keyword args: x, y. From version 0.12, the only valid positional argument will be `data`, and passing other arguments without an explicit keyword will result in an error or misinterpretation.\n",
      "  FutureWarning\n",
      "/usr/local/lib/python3.7/dist-packages/seaborn/_decorators.py:43: FutureWarning: Pass the following variables as keyword args: x, y. From version 0.12, the only valid positional argument will be `data`, and passing other arguments without an explicit keyword will result in an error or misinterpretation.\n",
      "  FutureWarning\n",
      "/usr/local/lib/python3.7/dist-packages/seaborn/_decorators.py:43: FutureWarning: Pass the following variables as keyword args: x, y. From version 0.12, the only valid positional argument will be `data`, and passing other arguments without an explicit keyword will result in an error or misinterpretation.\n",
      "  FutureWarning\n",
      "/usr/local/lib/python3.7/dist-packages/seaborn/_decorators.py:43: FutureWarning: Pass the following variables as keyword args: x, y. From version 0.12, the only valid positional argument will be `data`, and passing other arguments without an explicit keyword will result in an error or misinterpretation.\n",
      "  FutureWarning\n",
      "/usr/local/lib/python3.7/dist-packages/seaborn/_decorators.py:43: FutureWarning: Pass the following variables as keyword args: x, y. From version 0.12, the only valid positional argument will be `data`, and passing other arguments without an explicit keyword will result in an error or misinterpretation.\n",
      "  FutureWarning\n",
      "/usr/local/lib/python3.7/dist-packages/seaborn/_decorators.py:43: FutureWarning: Pass the following variables as keyword args: x, y. From version 0.12, the only valid positional argument will be `data`, and passing other arguments without an explicit keyword will result in an error or misinterpretation.\n",
      "  FutureWarning\n",
      "/usr/local/lib/python3.7/dist-packages/seaborn/_decorators.py:43: FutureWarning: Pass the following variables as keyword args: x, y. From version 0.12, the only valid positional argument will be `data`, and passing other arguments without an explicit keyword will result in an error or misinterpretation.\n",
      "  FutureWarning\n",
      "/usr/local/lib/python3.7/dist-packages/seaborn/_decorators.py:43: FutureWarning: Pass the following variables as keyword args: x, y. From version 0.12, the only valid positional argument will be `data`, and passing other arguments without an explicit keyword will result in an error or misinterpretation.\n",
      "  FutureWarning\n"
     ]
    },
    {
     "data": {
      "image/png": "[encoded data removed]",
      "text/plain": [
       "<Figure size 2160x3600 with 22 Axes>"
      ]
     },
     "metadata": {
      "needs_background": "light"
     },
     "output_type": "display_data"
    }
   ],
   "source": [
    "fig, ax = plt.subplots(11,2,figsize = (30,50))\n",
    "i=0\n",
    "for column in df.columns:\n",
    "    if column != \"Diabetes_binary\":\n",
    "        r = i // 2\n",
    "        c = i % 2\n",
    "        if column_details[column] > 2:\n",
    "            sns.scatterplot(df[\"Diabetes_binary\"], df[column], ax=ax[r][c])\n",
    "        if column_details[column] <= 2 :\n",
    "            sns.barplot(df[\"Diabetes_binary\"], df[column], ax=ax[r][c])\n",
    "        i=i+1\n",
    "            \n",
    "plt.show()"
   ]
  },
  {
   "cell_type": "markdown",
   "id": "00b51d2a",
   "metadata": {
    "id": "00b51d2a"
   },
   "source": [
    "### Splitting Data"
   ]
  },
  {
   "cell_type": "code",
   "execution_count": 28,
   "id": "37f7624c",
   "metadata": {
    "colab": {
     "base_uri": "https://localhost:8080/"
    },
    "id": "37f7624c",
    "outputId": "61aa9d86-0aa8-4a92-e21f-354ef7802b31"
   },
   "outputs": [
    {
     "name": "stdout",
     "output_type": "stream",
     "text": [
      "(69057, 21)\n",
      "(69057,)\n"
     ]
    }
   ],
   "source": [
    "X = df_new.drop('Diabetes_binary', axis = 1)\n",
    "Y = df_new['Diabetes_binary']\n",
    "print(X.shape)\n",
    "print(Y.shape)"
   ]
  },
  {
   "cell_type": "code",
   "execution_count": 29,
   "id": "e9dae218",
   "metadata": {
    "colab": {
     "base_uri": "https://localhost:8080/"
    },
    "id": "e9dae218",
    "outputId": "3b6c558b-c7da-4ee0-d4ea-2e0c53a4bfc7"
   },
   "outputs": [
    {
     "name": "stdout",
     "output_type": "stream",
     "text": [
      "Training X\t:   (48339, 21)\n",
      "Training Y\t:   (48339,)\n",
      "Testing X\t:   (20718, 21)\n",
      "Testing Y\t:   (20718,)\n"
     ]
    }
   ],
   "source": [
    "x_train, x_test, y_train, y_test = train_test_split(X, Y, test_size = 0.3, random_state = 42)\n",
    "print(\"Training X\\t:  \", x_train.shape)\n",
    "print(\"Training Y\\t:  \", y_train.shape)\n",
    "print(\"Testing X\\t:  \", x_test.shape)\n",
    "print(\"Testing Y\\t:  \", y_test.shape)"
   ]
  },
  {
   "cell_type": "markdown",
   "id": "e7b6f3da",
   "metadata": {
    "id": "e7b6f3da"
   },
   "source": [
    "## Modeling (with all features)"
   ]
  },
  {
   "cell_type": "markdown",
   "id": "d39f9b31",
   "metadata": {
    "id": "d39f9b31"
   },
   "source": [
    "#### Random Forest"
   ]
  },
  {
   "cell_type": "code",
   "execution_count": 30,
   "id": "10e3419b",
   "metadata": {
    "colab": {
     "base_uri": "https://localhost:8080/"
    },
    "id": "10e3419b",
    "outputId": "d78be484-5f72-4880-f73e-4a313a328454"
   },
   "outputs": [
    {
     "name": "stderr",
     "output_type": "stream",
     "text": [
      "[Parallel(n_jobs=1)]: Using backend SequentialBackend with 1 concurrent workers.\n",
      "[Parallel(n_jobs=1)]: Done 100 out of 100 | elapsed:    5.2s finished\n",
      "[Parallel(n_jobs=1)]: Using backend SequentialBackend with 1 concurrent workers.\n",
      "[Parallel(n_jobs=1)]: Done 100 out of 100 | elapsed:    0.7s finished\n"
     ]
    },
    {
     "data": {
      "text/plain": [
       "0.7337098175499566"
      ]
     },
     "execution_count": 30,
     "metadata": {},
     "output_type": "execute_result"
    }
   ],
   "source": [
    "random_forest = RandomForestClassifier(random_state = 0, verbose = 1)\n",
    "random_forest.fit(x_train, y_train)\n",
    "random_forest.score(x_test, y_test)"
   ]
  },
  {
   "cell_type": "markdown",
   "id": "85d0ce05",
   "metadata": {
    "id": "85d0ce05"
   },
   "source": [
    "**Note:** Default Settings"
   ]
  },
  {
   "cell_type": "code",
   "execution_count": 31,
   "id": "21353f45",
   "metadata": {
    "colab": {
     "base_uri": "https://localhost:8080/"
    },
    "id": "21353f45",
    "outputId": "75212c29-e926-4f6a-8621-6ef2cfc894eb"
   },
   "outputs": [
    {
     "name": "stderr",
     "output_type": "stream",
     "text": [
      "[Parallel(n_jobs=1)]: Using backend SequentialBackend with 1 concurrent workers.\n",
      "[Parallel(n_jobs=1)]: Done 500 out of 500 | elapsed:   26.0s finished\n",
      "[Parallel(n_jobs=1)]: Using backend SequentialBackend with 1 concurrent workers.\n",
      "[Parallel(n_jobs=1)]: Done 500 out of 500 | elapsed:    3.4s finished\n"
     ]
    },
    {
     "data": {
      "text/plain": [
       "0.7370402548508543"
      ]
     },
     "execution_count": 31,
     "metadata": {},
     "output_type": "execute_result"
    }
   ],
   "source": [
    "random_forest = RandomForestClassifier(random_state = 0, verbose = 1, n_estimators=500)\n",
    "random_forest.fit(x_train, y_train)\n",
    "random_forest.score(x_test, y_test)"
   ]
  },
  {
   "cell_type": "markdown",
   "id": "0070067f",
   "metadata": {
    "id": "0070067f"
   },
   "source": [
    "**Note:** Increased Models"
   ]
  },
  {
   "cell_type": "code",
   "execution_count": 32,
   "id": "7cfea5da",
   "metadata": {
    "colab": {
     "base_uri": "https://localhost:8080/"
    },
    "id": "7cfea5da",
    "outputId": "83179a0f-1e1f-4914-e2da-34d4857e8811"
   },
   "outputs": [
    {
     "name": "stderr",
     "output_type": "stream",
     "text": [
      "[Parallel(n_jobs=1)]: Using backend SequentialBackend with 1 concurrent workers.\n",
      "[Parallel(n_jobs=1)]: Done 500 out of 500 | elapsed:   30.6s finished\n",
      "[Parallel(n_jobs=1)]: Using backend SequentialBackend with 1 concurrent workers.\n",
      "[Parallel(n_jobs=1)]: Done 500 out of 500 | elapsed:    3.9s finished\n"
     ]
    },
    {
     "data": {
      "text/plain": [
       "0.7380055989960421"
      ]
     },
     "execution_count": 32,
     "metadata": {},
     "output_type": "execute_result"
    }
   ],
   "source": [
    "random_forest = RandomForestClassifier(random_state = 0, verbose = 1, n_estimators=500, criterion=\"entropy\")\n",
    "random_forest.fit(x_train, y_train)\n",
    "random_forest.score(x_test, y_test)"
   ]
  },
  {
   "cell_type": "markdown",
   "id": "ee740329",
   "metadata": {
    "id": "ee740329"
   },
   "source": [
    "**Note:** Changed criteria to Entropy"
   ]
  },
  {
   "cell_type": "code",
   "execution_count": 33,
   "id": "cc51c636",
   "metadata": {
    "colab": {
     "base_uri": "https://localhost:8080/"
    },
    "id": "cc51c636",
    "outputId": "4b1a899f-3ef3-409f-d959-5f0d0bcabcb1"
   },
   "outputs": [
    {
     "name": "stderr",
     "output_type": "stream",
     "text": [
      "[Parallel(n_jobs=1)]: Using backend SequentialBackend with 1 concurrent workers.\n",
      "[Parallel(n_jobs=1)]: Done 500 out of 500 | elapsed:   29.6s finished\n",
      "[Parallel(n_jobs=1)]: Using backend SequentialBackend with 1 concurrent workers.\n",
      "[Parallel(n_jobs=1)]: Done 500 out of 500 | elapsed:    4.0s finished\n"
     ]
    },
    {
     "data": {
      "text/plain": [
       "0.7380055989960421"
      ]
     },
     "execution_count": 33,
     "metadata": {},
     "output_type": "execute_result"
    }
   ],
   "source": [
    "random_forest = RandomForestClassifier(random_state = 0, verbose = 1, n_estimators=500, criterion=\"entropy\", max_features=\"log2\")\n",
    "random_forest.fit(x_train, y_train)\n",
    "random_forest.score(x_test, y_test)"
   ]
  },
  {
   "cell_type": "markdown",
   "id": "6eeea33c",
   "metadata": {
    "id": "6eeea33c"
   },
   "source": [
    "**Note:** Changed Max Features to Log2 (no changes)"
   ]
  },
  {
   "cell_type": "code",
   "execution_count": 34,
   "id": "de517dd0",
   "metadata": {
    "colab": {
     "base_uri": "https://localhost:8080/"
    },
    "id": "de517dd0",
    "outputId": "4c42f365-8df3-4396-b503-cbcaaabc5017"
   },
   "outputs": [
    {
     "name": "stderr",
     "output_type": "stream",
     "text": [
      "[Parallel(n_jobs=1)]: Using backend SequentialBackend with 1 concurrent workers.\n",
      "[Parallel(n_jobs=1)]: Done 500 out of 500 | elapsed:   44.1s finished\n",
      "[Parallel(n_jobs=1)]: Using backend SequentialBackend with 1 concurrent workers.\n",
      "[Parallel(n_jobs=1)]: Done 500 out of 500 | elapsed:    3.9s finished\n"
     ]
    },
    {
     "data": {
      "text/plain": [
       "0.7289313640312771"
      ]
     },
     "execution_count": 34,
     "metadata": {},
     "output_type": "execute_result"
    }
   ],
   "source": [
    "random_forest = RandomForestClassifier(random_state = 0, verbose = 1, n_estimators=500, criterion=\"entropy\", max_features=\"log2\", bootstrap=False)\n",
    "random_forest.fit(x_train, y_train)\n",
    "random_forest.score(x_test, y_test)"
   ]
  },
  {
   "cell_type": "markdown",
   "id": "e814f81a",
   "metadata": {
    "id": "e814f81a"
   },
   "source": [
    "**Note:** Changed Bootstrap to False, Accuracy decreased"
   ]
  },
  {
   "cell_type": "code",
   "execution_count": 35,
   "id": "6056fbe4",
   "metadata": {
    "colab": {
     "base_uri": "https://localhost:8080/"
    },
    "id": "6056fbe4",
    "outputId": "84651f5c-42d7-4124-c87c-5972cca8d4fc"
   },
   "outputs": [
    {
     "name": "stderr",
     "output_type": "stream",
     "text": [
      "[Parallel(n_jobs=1)]: Using backend SequentialBackend with 1 concurrent workers.\n",
      "[Parallel(n_jobs=1)]: Done 1000 out of 1000 | elapsed:   40.0s finished\n",
      "[Parallel(n_jobs=1)]: Using backend SequentialBackend with 1 concurrent workers.\n",
      "[Parallel(n_jobs=1)]: Done 1000 out of 1000 | elapsed:    2.9s finished\n"
     ]
    },
    {
     "data": {
      "text/plain": [
       "0.7541268462206777"
      ]
     },
     "execution_count": 35,
     "metadata": {},
     "output_type": "execute_result"
    }
   ],
   "source": [
    "random_forest = RandomForestClassifier(random_state = 0, verbose = 1, n_estimators=1000, max_depth=10)\n",
    "random_forest.fit(x_train, y_train)\n",
    "random_forest.score(x_test, y_test)"
   ]
  },
  {
   "cell_type": "markdown",
   "id": "47b4aa6f",
   "metadata": {
    "id": "47b4aa6f"
   },
   "source": [
    "**Note:** Increased models with max depth 10, Accuracy increased"
   ]
  },
  {
   "cell_type": "markdown",
   "id": "10a53c4a",
   "metadata": {
    "id": "10a53c4a"
   },
   "source": [
    "##### Confusion Matrix and Classification Report"
   ]
  },
  {
   "cell_type": "code",
   "execution_count": 36,
   "id": "47b4aebc",
   "metadata": {
    "colab": {
     "base_uri": "https://localhost:8080/"
    },
    "id": "47b4aebc",
    "outputId": "40ca2a3b-9cb2-4c72-9c41-0d85fda80be6"
   },
   "outputs": [
    {
     "name": "stderr",
     "output_type": "stream",
     "text": [
      "[Parallel(n_jobs=1)]: Using backend SequentialBackend with 1 concurrent workers.\n",
      "[Parallel(n_jobs=1)]: Done 1000 out of 1000 | elapsed:    2.9s finished\n"
     ]
    }
   ],
   "source": [
    "predictions_rf = random_forest.predict(x_test)"
   ]
  },
  {
   "cell_type": "code",
   "execution_count": 37,
   "id": "b5979b6d",
   "metadata": {
    "colab": {
     "base_uri": "https://localhost:8080/"
    },
    "id": "b5979b6d",
    "outputId": "fd0ea721-3d05-4861-89f4-3ed00655115d"
   },
   "outputs": [
    {
     "name": "stdout",
     "output_type": "stream",
     "text": [
      "[[7164 2956]\n",
      " [2138 8460]]\n"
     ]
    }
   ],
   "source": [
    "confusion_matrix_rf = metrics.confusion_matrix(y_test, predictions_rf)\n",
    "print(confusion_matrix_rf)"
   ]
  },
  {
   "cell_type": "code",
   "execution_count": 38,
   "id": "750da2ea",
   "metadata": {
    "colab": {
     "base_uri": "https://localhost:8080/",
     "height": 0
    },
    "id": "750da2ea",
    "outputId": "991909a9-f69d-4a3d-aa7a-88de09c3bea4"
   },
   "outputs": [
    {
     "data": {
      "image/png": "[encoded data removed]",
      "text/plain": [
       "<Figure size 576x432 with 2 Axes>"
      ]
     },
     "metadata": {
      "needs_background": "light"
     },
     "output_type": "display_data"
    }
   ],
   "source": [
    "plt.figure(figsize = (8,6))\n",
    "sns.heatmap(confusion_matrix_rf, annot = True, fmt = \".0f\", cmap = 'RdBu')\n",
    "plt.title(\"Confusion Matrix for Random Forest\")\n",
    "plt.xlabel(\"Prediction\")\n",
    "plt.ylabel(\"Actual\")\n",
    "plt.show()"
   ]
  },
  {
   "cell_type": "code",
   "execution_count": 39,
   "id": "9f149ffe",
   "metadata": {
    "colab": {
     "base_uri": "https://localhost:8080/"
    },
    "id": "9f149ffe",
    "outputId": "4642387b-d63c-4689-fc08-50e5f0afd634"
   },
   "outputs": [
    {
     "name": "stdout",
     "output_type": "stream",
     "text": [
      "              precision    recall  f1-score   support\n",
      "\n",
      "         0.0       0.77      0.71      0.74     10120\n",
      "         1.0       0.74      0.80      0.77     10598\n",
      "\n",
      "    accuracy                           0.75     20718\n",
      "   macro avg       0.76      0.75      0.75     20718\n",
      "weighted avg       0.76      0.75      0.75     20718\n",
      "\n"
     ]
    }
   ],
   "source": [
    "report_rf = metrics.classification_report(y_test, predictions_rf)\n",
    "print(report_rf)"
   ]
  },
  {
   "cell_type": "markdown",
   "id": "ad17c8ee",
   "metadata": {
    "id": "ad17c8ee"
   },
   "source": [
    "#### Decision Tree (Entropy)"
   ]
  },
  {
   "cell_type": "code",
   "execution_count": 40,
   "id": "714144a2",
   "metadata": {
    "colab": {
     "base_uri": "https://localhost:8080/"
    },
    "id": "714144a2",
    "outputId": "42fff114-36c4-4643-aefd-f4c8a798bfcd"
   },
   "outputs": [
    {
     "data": {
      "text/plain": [
       "0.6564340187276764"
      ]
     },
     "execution_count": 40,
     "metadata": {},
     "output_type": "execute_result"
    }
   ],
   "source": [
    "desicion_tree = DecisionTreeClassifier(random_state = 0, criterion=\"entropy\", splitter=\"random\")\n",
    "desicion_tree.fit(x_train, y_train)\n",
    "desicion_tree.score(x_test, y_test)"
   ]
  },
  {
   "cell_type": "markdown",
   "id": "ef15b519",
   "metadata": {
    "id": "ef15b519"
   },
   "source": [
    "**Note:** Decision Tree Criteria Is Entropy and Changed splitter to random"
   ]
  },
  {
   "cell_type": "markdown",
   "id": "c8de20c9",
   "metadata": {
    "id": "c8de20c9"
   },
   "source": [
    "##### Confusion Matrix and Classification Report"
   ]
  },
  {
   "cell_type": "code",
   "execution_count": 41,
   "id": "c10d9940",
   "metadata": {
    "id": "c10d9940"
   },
   "outputs": [],
   "source": [
    "predictions_dt = desicion_tree.predict(x_test)"
   ]
  },
  {
   "cell_type": "code",
   "execution_count": 42,
   "id": "456a155e",
   "metadata": {
    "colab": {
     "base_uri": "https://localhost:8080/"
    },
    "id": "456a155e",
    "outputId": "bde6e0e9-82fa-4669-b2ff-8496b76919ed"
   },
   "outputs": [
    {
     "name": "stdout",
     "output_type": "stream",
     "text": [
      "[[6715 3405]\n",
      " [3713 6885]]\n"
     ]
    }
   ],
   "source": [
    "confusion_matrix_dt = metrics.confusion_matrix(y_test, predictions_dt)\n",
    "print(confusion_matrix_dt)"
   ]
  },
  {
   "cell_type": "code",
   "execution_count": 43,
   "id": "7789c9be",
   "metadata": {
    "colab": {
     "base_uri": "https://localhost:8080/",
     "height": 0
    },
    "id": "7789c9be",
    "outputId": "fa3322f8-bacb-404d-d069-407d6333751f"
   },
   "outputs": [
    {
     "data": {
      "image/png": "[encoded data removed]",
      "text/plain": [
       "<Figure size 576x432 with 2 Axes>"
      ]
     },
     "metadata": {
      "needs_background": "light"
     },
     "output_type": "display_data"
    }
   ],
   "source": [
    "plt.figure(figsize = (8,6))\n",
    "sns.heatmap(confusion_matrix_dt, annot = True, fmt = \".0f\", cmap = 'Greens')\n",
    "plt.title(\"Confusion Matrix for Decision Tree\")\n",
    "plt.xlabel(\"Prediction\")\n",
    "plt.ylabel(\"Actual\")\n",
    "plt.show()"
   ]
  },
  {
   "cell_type": "code",
   "execution_count": 44,
   "id": "aed9e08f",
   "metadata": {
    "colab": {
     "base_uri": "https://localhost:8080/"
    },
    "id": "aed9e08f",
    "outputId": "e7b61012-33d4-4531-ce2c-3e0d4628131c"
   },
   "outputs": [
    {
     "name": "stdout",
     "output_type": "stream",
     "text": [
      "              precision    recall  f1-score   support\n",
      "\n",
      "         0.0       0.64      0.66      0.65     10120\n",
      "         1.0       0.67      0.65      0.66     10598\n",
      "\n",
      "    accuracy                           0.66     20718\n",
      "   macro avg       0.66      0.66      0.66     20718\n",
      "weighted avg       0.66      0.66      0.66     20718\n",
      "\n"
     ]
    }
   ],
   "source": [
    "report_dt = metrics.classification_report(y_test, predictions_dt)\n",
    "print(report_dt)"
   ]
  },
  {
   "cell_type": "markdown",
   "id": "REIGTTToOjLL",
   "metadata": {
    "id": "REIGTTToOjLL"
   },
   "source": [
    "#### Decision Tree (Gini)"
   ]
  },
  {
   "cell_type": "code",
   "execution_count": 45,
   "id": "UEN4AFI8OqFA",
   "metadata": {
    "colab": {
     "base_uri": "https://localhost:8080/"
    },
    "id": "UEN4AFI8OqFA",
    "outputId": "6b773312-9823-4723-ab14-c75aa0799c02"
   },
   "outputs": [
    {
     "data": {
      "text/plain": [
       "0.6976059465199344"
      ]
     },
     "execution_count": 45,
     "metadata": {},
     "output_type": "execute_result"
    }
   ],
   "source": [
    "desicion_Gtree = DecisionTreeClassifier(random_state=0, criterion='gini', max_depth=3, splitter=\"random\")\n",
    "desicion_Gtree.fit(x_train, y_train)\n",
    "desicion_Gtree.score(x_test, y_test)"
   ]
  },
  {
   "cell_type": "markdown",
   "id": "TJ51kMY7P9X4",
   "metadata": {
    "id": "TJ51kMY7P9X4"
   },
   "source": [
    "**Note:** Decision Tree Criteria Is Gini and Changed splitter to random"
   ]
  },
  {
   "cell_type": "markdown",
   "id": "0AjTREm7QFQ1",
   "metadata": {
    "id": "0AjTREm7QFQ1"
   },
   "source": [
    "##### Confusion Matrix and Classification Report"
   ]
  },
  {
   "cell_type": "code",
   "execution_count": 46,
   "id": "fV4dDotDQK6t",
   "metadata": {
    "id": "fV4dDotDQK6t"
   },
   "outputs": [],
   "source": [
    "predictions_Gdt = desicion_Gtree.predict(x_test)"
   ]
  },
  {
   "cell_type": "code",
   "execution_count": 47,
   "id": "xiCH0un3QRSG",
   "metadata": {
    "colab": {
     "base_uri": "https://localhost:8080/"
    },
    "id": "xiCH0un3QRSG",
    "outputId": "d9e4fa8d-1e5d-426d-d9a9-2bbae7ddfb27"
   },
   "outputs": [
    {
     "name": "stdout",
     "output_type": "stream",
     "text": [
      "[[7463 2657]\n",
      " [3608 6990]]\n"
     ]
    }
   ],
   "source": [
    "confusion_matrix_Gdt = metrics.confusion_matrix(y_test, predictions_Gdt)\n",
    "print(confusion_matrix_Gdt)"
   ]
  },
  {
   "cell_type": "code",
   "execution_count": 48,
   "id": "y6SkWIBnQZ0W",
   "metadata": {
    "colab": {
     "base_uri": "https://localhost:8080/",
     "height": 0
    },
    "id": "y6SkWIBnQZ0W",
    "outputId": "5df72b65-8ee1-48e5-98bf-98b42280231e"
   },
   "outputs": [
    {
     "data": {
      "image/png": "[encoded data removed]",
      "text/plain": [
       "<Figure size 576x432 with 2 Axes>"
      ]
     },
     "metadata": {
      "needs_background": "light"
     },
     "output_type": "display_data"
    }
   ],
   "source": [
    "plt.figure(figsize = (8,6))\n",
    "sns.heatmap(confusion_matrix_Gdt, annot = True, fmt = \".0f\", cmap = 'PuBuGn')\n",
    "plt.title(\"Confusion Matrix for Decision Tree (Gini)\")\n",
    "plt.xlabel(\"Prediction\")\n",
    "plt.ylabel(\"Actual\")\n",
    "plt.show()"
   ]
  },
  {
   "cell_type": "code",
   "execution_count": 49,
   "id": "1TrIuv1AQuws",
   "metadata": {
    "colab": {
     "base_uri": "https://localhost:8080/"
    },
    "id": "1TrIuv1AQuws",
    "outputId": "486d5cee-9ec6-44ad-ae9b-abb592f9b4eb"
   },
   "outputs": [
    {
     "name": "stdout",
     "output_type": "stream",
     "text": [
      "              precision    recall  f1-score   support\n",
      "\n",
      "         0.0       0.67      0.74      0.70     10120\n",
      "         1.0       0.72      0.66      0.69     10598\n",
      "\n",
      "    accuracy                           0.70     20718\n",
      "   macro avg       0.70      0.70      0.70     20718\n",
      "weighted avg       0.70      0.70      0.70     20718\n",
      "\n"
     ]
    }
   ],
   "source": [
    "report_Gdt = metrics.classification_report(y_test, predictions_Gdt)\n",
    "print(report_Gdt)"
   ]
  },
  {
   "cell_type": "markdown",
   "id": "7ee743f3",
   "metadata": {
    "id": "7ee743f3"
   },
   "source": [
    "#### Gradient Boosting"
   ]
  },
  {
   "cell_type": "code",
   "execution_count": null,
   "id": "2d922da0",
   "metadata": {
    "id": "2d922da0",
    "outputId": "d732bf3f-dff2-4d68-cae1-e97b92db90b4"
   },
   "outputs": [
    {
     "data": {
      "text/plain": [
       "0.7545612510860121"
      ]
     },
     "execution_count": 40,
     "metadata": {},
     "output_type": "execute_result"
    }
   ],
   "source": [
    "gradient_boosting = GradientBoostingClassifier(random_state = 0)\n",
    "gradient_boosting.fit(x_train, y_train)\n",
    "gradient_boosting.score(x_test, y_test)"
   ]
  },
  {
   "cell_type": "markdown",
   "id": "8efeef6a",
   "metadata": {
    "id": "8efeef6a"
   },
   "source": [
    "**Note:** Default settings"
   ]
  },
  {
   "cell_type": "code",
   "execution_count": null,
   "id": "ae43494f",
   "metadata": {
    "id": "ae43494f",
    "outputId": "c21eca8d-622b-492d-e9c7-016bf0e9aaa0"
   },
   "outputs": [
    {
     "data": {
      "text/plain": [
       "0.7561058017183125"
      ]
     },
     "execution_count": 46,
     "metadata": {},
     "output_type": "execute_result"
    }
   ],
   "source": [
    "gradient_boosting = GradientBoostingClassifier(random_state = 0, n_estimators = 300)\n",
    "gradient_boosting.fit(x_train, y_train)\n",
    "gradient_boosting.score(x_test, y_test)"
   ]
  },
  {
   "cell_type": "markdown",
   "id": "c13cb3f6",
   "metadata": {
    "id": "c13cb3f6"
   },
   "source": [
    "**Note:** Increased models"
   ]
  },
  {
   "cell_type": "code",
   "execution_count": null,
   "id": "0741851b",
   "metadata": {
    "id": "0741851b",
    "outputId": "0506856b-7d88-4c5a-8cf0-eb05da676924"
   },
   "outputs": [
    {
     "data": {
      "text/plain": [
       "0.7547060527077903"
      ]
     },
     "execution_count": 42,
     "metadata": {},
     "output_type": "execute_result"
    }
   ],
   "source": [
    "gradient_boosting = GradientBoostingClassifier(random_state = 0, n_estimators = 300, learning_rate = 0.15)\n",
    "gradient_boosting.fit(x_train, y_train)\n",
    "gradient_boosting.score(x_test, y_test)"
   ]
  },
  {
   "cell_type": "markdown",
   "id": "9ec78135",
   "metadata": {
    "id": "9ec78135"
   },
   "source": [
    "**Note:** Changed learning rate to 0.15"
   ]
  },
  {
   "cell_type": "code",
   "execution_count": null,
   "id": "23c66ea8",
   "metadata": {
    "id": "23c66ea8",
    "outputId": "68609732-c33d-4bce-b665-d06ae4ea6d22"
   },
   "outputs": [
    {
     "data": {
      "text/plain": [
       "0.7561058017183125"
      ]
     },
     "execution_count": 43,
     "metadata": {},
     "output_type": "execute_result"
    }
   ],
   "source": [
    "gradient_boosting = GradientBoostingClassifier(random_state = 0, n_estimators = 300, criterion='mse')\n",
    "gradient_boosting.fit(x_train, y_train)\n",
    "gradient_boosting.score(x_test, y_test)"
   ]
  },
  {
   "cell_type": "markdown",
   "id": "1bd6cb81",
   "metadata": {
    "id": "1bd6cb81"
   },
   "source": [
    "**Note:** Changed criteria to Mean Squared Error"
   ]
  },
  {
   "cell_type": "code",
   "execution_count": null,
   "id": "96b6ce8b",
   "metadata": {
    "id": "96b6ce8b",
    "outputId": "300ada60-acf0-4af6-98f0-309a72a0d4a9"
   },
   "outputs": [
    {
     "data": {
      "text/plain": [
       "0.7252630562795637"
      ]
     },
     "execution_count": 44,
     "metadata": {},
     "output_type": "execute_result"
    }
   ],
   "source": [
    "gradient_boosting = GradientBoostingClassifier(random_state = 0, n_estimators = 300, max_depth = 10)\n",
    "gradient_boosting.fit(x_train, y_train)\n",
    "gradient_boosting.score(x_test, y_test)"
   ]
  },
  {
   "cell_type": "markdown",
   "id": "d10ea430",
   "metadata": {
    "id": "d10ea430"
   },
   "source": [
    "**Note:** Changed max depth to 10"
   ]
  },
  {
   "cell_type": "code",
   "execution_count": null,
   "id": "37e7e9c0",
   "metadata": {
    "id": "37e7e9c0",
    "outputId": "e648b851-c208-45ff-a772-74bb0c39189e"
   },
   "outputs": [
    {
     "data": {
      "text/plain": [
       "0.7553335264021623"
      ]
     },
     "execution_count": 45,
     "metadata": {},
     "output_type": "execute_result"
    }
   ],
   "source": [
    "gradient_boosting = GradientBoostingClassifier(random_state = 0, n_estimators = 300, subsample = 0.8)\n",
    "gradient_boosting.fit(x_train, y_train)\n",
    "gradient_boosting.score(x_test, y_test)"
   ]
  },
  {
   "cell_type": "markdown",
   "id": "aa89eaa1",
   "metadata": {
    "id": "aa89eaa1"
   },
   "source": [
    "**Note:** Changed subsample to 80%"
   ]
  },
  {
   "cell_type": "markdown",
   "id": "43c9a8d7",
   "metadata": {
    "id": "43c9a8d7"
   },
   "source": [
    "##### Confusion Matrix and Classification Report"
   ]
  },
  {
   "cell_type": "code",
   "execution_count": null,
   "id": "dffee541",
   "metadata": {
    "id": "dffee541"
   },
   "outputs": [],
   "source": [
    "predictions_gb = gradient_boosting.predict(x_test)"
   ]
  },
  {
   "cell_type": "code",
   "execution_count": null,
   "id": "db08ef94",
   "metadata": {
    "id": "db08ef94",
    "outputId": "9a2d50f9-059f-470d-96ae-2c44f487534b"
   },
   "outputs": [
    {
     "name": "stdout",
     "output_type": "stream",
     "text": [
      "[[7208 2912]\n",
      " [2141 8457]]\n"
     ]
    }
   ],
   "source": [
    "confusion_matrix_gb = metrics.confusion_matrix(y_test, predictions_gb)\n",
    "print(confusion_matrix_gb)"
   ]
  },
  {
   "cell_type": "code",
   "execution_count": null,
   "id": "7b4c8f54",
   "metadata": {
    "id": "7b4c8f54",
    "outputId": "a7f551e0-8d10-45b1-a8e0-26731b774688"
   },
   "outputs": [
    {
     "data": {
      "image/png": "[encoded data removed]",
      "text/plain": [
       "<Figure size 576x432 with 2 Axes>"
      ]
     },
     "metadata": {
      "needs_background": "light"
     },
     "output_type": "display_data"
    }
   ],
   "source": [
    "plt.figure(figsize = (8,6))\n",
    "sns.heatmap(confusion_matrix_gb, annot = True, fmt = \".0f\", cmap = 'viridis')\n",
    "plt.title(\"Confusion Matrix for Gradient Boosted Model\")\n",
    "plt.xlabel(\"Prediction\")\n",
    "plt.ylabel(\"Actual\")\n",
    "plt.show()"
   ]
  },
  {
   "cell_type": "code",
   "execution_count": null,
   "id": "2c2fa6fd",
   "metadata": {
    "id": "2c2fa6fd",
    "outputId": "f921371f-53f1-4457-c8b0-42a083e2556e"
   },
   "outputs": [
    {
     "name": "stdout",
     "output_type": "stream",
     "text": [
      "              precision    recall  f1-score   support\n",
      "\n",
      "           0       0.77      0.71      0.74     10120\n",
      "           1       0.74      0.80      0.77     10598\n",
      "\n",
      "    accuracy                           0.76     20718\n",
      "   macro avg       0.76      0.76      0.76     20718\n",
      "weighted avg       0.76      0.76      0.76     20718\n",
      "\n"
     ]
    }
   ],
   "source": [
    "report_gb = metrics.classification_report(y_test, predictions_gb)\n",
    "print(report_gb)"
   ]
  },
  {
   "cell_type": "markdown",
   "id": "c3fb9f4d",
   "metadata": {
    "id": "c3fb9f4d"
   },
   "source": [
    "#### Naive Bayes"
   ]
  },
  {
   "cell_type": "code",
   "execution_count": 55,
   "id": "12e7bac7",
   "metadata": {
    "colab": {
     "base_uri": "https://localhost:8080/"
    },
    "id": "12e7bac7",
    "outputId": "2f8cc790-c534-4ca5-8acb-d934710594ac"
   },
   "outputs": [
    {
     "data": {
      "text/plain": [
       "0.7179747079833961"
      ]
     },
     "execution_count": 55,
     "metadata": {},
     "output_type": "execute_result"
    }
   ],
   "source": [
    "naive_bayes = GaussianNB()\n",
    "naive_bayes.fit(x_train, y_train)\n",
    "naive_bayes.score(x_test, y_test)"
   ]
  },
  {
   "cell_type": "markdown",
   "id": "f20f83a7",
   "metadata": {
    "id": "f20f83a7"
   },
   "source": [
    "##### Confusion Matrix and Classification Report"
   ]
  },
  {
   "cell_type": "code",
   "execution_count": 56,
   "id": "7205a600",
   "metadata": {
    "id": "7205a600"
   },
   "outputs": [],
   "source": [
    "predictions_nb = naive_bayes.predict(x_test)"
   ]
  },
  {
   "cell_type": "code",
   "execution_count": 57,
   "id": "7c4ae581",
   "metadata": {
    "colab": {
     "base_uri": "https://localhost:8080/"
    },
    "id": "7c4ae581",
    "outputId": "2f8a58e7-8692-43cc-aa0f-23d17cf8783f"
   },
   "outputs": [
    {
     "name": "stdout",
     "output_type": "stream",
     "text": [
      "[[7318 2802]\n",
      " [3041 7557]]\n"
     ]
    }
   ],
   "source": [
    "confusion_matrix_nb = metrics.confusion_matrix(y_test, predictions_nb)\n",
    "print(confusion_matrix_nb)"
   ]
  },
  {
   "cell_type": "code",
   "execution_count": 58,
   "id": "32f2424e",
   "metadata": {
    "colab": {
     "base_uri": "https://localhost:8080/",
     "height": 0
    },
    "id": "32f2424e",
    "outputId": "1fbdf675-bfea-4e1a-c4da-9f7ac18c18ee"
   },
   "outputs": [
    {
     "data": {
      "image/png": "[encoded data removed]",
      "text/plain": [
       "<Figure size 576x432 with 2 Axes>"
      ]
     },
     "metadata": {
      "needs_background": "light"
     },
     "output_type": "display_data"
    }
   ],
   "source": [
    "plt.figure(figsize = (8,6))\n",
    "sns.heatmap(confusion_matrix_nb, annot = True, fmt = \".0f\", cmap = 'Blues')\n",
    "plt.title(\"Confusion Matrix for Naive Bayes\")\n",
    "plt.xlabel(\"Prediction\")\n",
    "plt.ylabel(\"Actual\")\n",
    "plt.show()"
   ]
  },
  {
   "cell_type": "code",
   "execution_count": 59,
   "id": "a1288453",
   "metadata": {
    "colab": {
     "base_uri": "https://localhost:8080/"
    },
    "id": "a1288453",
    "outputId": "f85a8ee3-6cdc-41ef-8ee6-3f11882d93d3"
   },
   "outputs": [
    {
     "name": "stdout",
     "output_type": "stream",
     "text": [
      "              precision    recall  f1-score   support\n",
      "\n",
      "         0.0       0.71      0.72      0.71     10120\n",
      "         1.0       0.73      0.71      0.72     10598\n",
      "\n",
      "    accuracy                           0.72     20718\n",
      "   macro avg       0.72      0.72      0.72     20718\n",
      "weighted avg       0.72      0.72      0.72     20718\n",
      "\n"
     ]
    }
   ],
   "source": [
    "report_nb = metrics.classification_report(y_test, predictions_nb)\n",
    "print(report_nb)"
   ]
  },
  {
   "cell_type": "markdown",
   "id": "yjnJC-CvXVY2",
   "metadata": {
    "id": "yjnJC-CvXVY2"
   },
   "source": [
    "#### Logistic Regression"
   ]
  },
  {
   "cell_type": "code",
   "execution_count": 60,
   "id": "ZuL3jr04XbPa",
   "metadata": {
    "colab": {
     "base_uri": "https://localhost:8080/"
    },
    "id": "ZuL3jr04XbPa",
    "outputId": "0568b6b7-9706-4a80-91a0-d71fae55b047"
   },
   "outputs": [
    {
     "data": {
      "text/plain": [
       "0.7485761173858481"
      ]
     },
     "execution_count": 60,
     "metadata": {},
     "output_type": "execute_result"
    }
   ],
   "source": [
    "# logistic_reg = LogisticRegression()\n",
    "from sklearn.preprocessing import StandardScaler\n",
    "from sklearn.pipeline import make_pipeline\n",
    "\n",
    "logistic_reg = make_pipeline(StandardScaler(), LogisticRegression())\n",
    "logistic_reg.fit(x_train, y_train)\n",
    "logistic_reg.score(x_test, y_test)"
   ]
  },
  {
   "cell_type": "markdown",
   "id": "xBupkHgIXmah",
   "metadata": {
    "id": "xBupkHgIXmah"
   },
   "source": [
    "##### Confusion Matrix and Classification Report"
   ]
  },
  {
   "cell_type": "code",
   "execution_count": 61,
   "id": "3uHx3c1uXqzo",
   "metadata": {
    "id": "3uHx3c1uXqzo"
   },
   "outputs": [],
   "source": [
    "predictions_lr = logistic_reg.predict(x_test)"
   ]
  },
  {
   "cell_type": "code",
   "execution_count": 62,
   "id": "j8Qz2K3CX4_B",
   "metadata": {
    "colab": {
     "base_uri": "https://localhost:8080/"
    },
    "id": "j8Qz2K3CX4_B",
    "outputId": "0797e80b-e00f-4e8c-ff44-d1260251c562"
   },
   "outputs": [
    {
     "name": "stdout",
     "output_type": "stream",
     "text": [
      "[[7331 2789]\n",
      " [2420 8178]]\n"
     ]
    }
   ],
   "source": [
    "confusion_matrix_lr = metrics.confusion_matrix(y_test, predictions_lr)\n",
    "print(confusion_matrix_lr)"
   ]
  },
  {
   "cell_type": "code",
   "execution_count": 63,
   "id": "l5DmmPt_Z9nO",
   "metadata": {
    "colab": {
     "base_uri": "https://localhost:8080/",
     "height": 404
    },
    "id": "l5DmmPt_Z9nO",
    "outputId": "25711b4f-1d60-4c5f-833a-0916566a9ebf"
   },
   "outputs": [
    {
     "data": {
      "image/png": "[encoded data removed]",
      "text/plain": [
       "<Figure size 576x432 with 2 Axes>"
      ]
     },
     "metadata": {
      "needs_background": "light"
     },
     "output_type": "display_data"
    }
   ],
   "source": [
    "plt.figure(figsize = (8,6))\n",
    "sns.heatmap(confusion_matrix_lr, annot = True, fmt = \".0f\", cmap = 'viridis')\n",
    "plt.title(\"Confusion Matrix for Logit (Logistic Regression)\")\n",
    "plt.xlabel(\"Prediction\")\n",
    "plt.ylabel(\"Actual\")\n",
    "plt.show()"
   ]
  },
  {
   "cell_type": "code",
   "execution_count": 64,
   "id": "kto2bfZOaIWT",
   "metadata": {
    "colab": {
     "base_uri": "https://localhost:8080/"
    },
    "id": "kto2bfZOaIWT",
    "outputId": "ed5139ca-9f6e-44af-8907-1bd58bcb8e3a"
   },
   "outputs": [
    {
     "name": "stdout",
     "output_type": "stream",
     "text": [
      "              precision    recall  f1-score   support\n",
      "\n",
      "         0.0       0.75      0.72      0.74     10120\n",
      "         1.0       0.75      0.77      0.76     10598\n",
      "\n",
      "    accuracy                           0.75     20718\n",
      "   macro avg       0.75      0.75      0.75     20718\n",
      "weighted avg       0.75      0.75      0.75     20718\n",
      "\n"
     ]
    }
   ],
   "source": [
    "report_lr = metrics.classification_report(y_test, predictions_lr)\n",
    "print(report_lr)"
   ]
  },
  {
   "cell_type": "markdown",
   "id": "88f889ad",
   "metadata": {
    "id": "88f889ad"
   },
   "source": [
    "## Evaluating Feature Importance Acc. to Each Algorithm"
   ]
  },
  {
   "cell_type": "markdown",
   "id": "3225c46c",
   "metadata": {
    "id": "3225c46c"
   },
   "source": [
    "#### Random Forest"
   ]
  },
  {
   "cell_type": "code",
   "execution_count": null,
   "id": "b41786a9",
   "metadata": {
    "id": "b41786a9",
    "outputId": "e00f6087-2c9c-4c92-83d8-119010ebc779"
   },
   "outputs": [
    {
     "name": "stdout",
     "output_type": "stream",
     "text": [
      "GenHlth                 0.222461\n",
      "HighBP                  0.192046\n",
      "BMI                     0.133147\n",
      "Age                     0.107900\n",
      "HighChol                0.092223\n",
      "DiffWalk                0.055364\n",
      "Income                  0.033830\n",
      "PhysHlth                0.033443\n",
      "HeartDiseaseorAttack    0.030692\n",
      "Education               0.017303\n",
      "MentHlth                0.014594\n",
      "CholCheck               0.010506\n",
      "HvyAlcoholConsump       0.010083\n",
      "Sex                     0.009215\n",
      "PhysActivity            0.008859\n",
      "Stroke                  0.006627\n",
      "Smoker                  0.005165\n",
      "Veggies                 0.004652\n",
      "Fruits                  0.004566\n",
      "NoDocbcCost             0.004016\n",
      "AnyHealthcare           0.003306\n",
      "dtype: float64\n"
     ]
    }
   ],
   "source": [
    "train_columns = x_train.columns\n",
    "features_rf = pd.Series(random_forest.feature_importances_, index = train_columns)\n",
    "print(features_rf.sort_values(ascending = False))"
   ]
  },
  {
   "cell_type": "markdown",
   "id": "2a86e803",
   "metadata": {
    "id": "2a86e803"
   },
   "source": [
    "**Most important features are on top of the list**"
   ]
  },
  {
   "cell_type": "markdown",
   "id": "df59399b",
   "metadata": {
    "id": "df59399b"
   },
   "source": [
    "#### Decision Tree"
   ]
  },
  {
   "cell_type": "code",
   "execution_count": null,
   "id": "ce58f4f4",
   "metadata": {
    "id": "ce58f4f4",
    "outputId": "62464dd2-3806-49ca-a35b-a32a2ca0ef3a"
   },
   "outputs": [
    {
     "name": "stdout",
     "output_type": "stream",
     "text": [
      "BMI                     0.139279\n",
      "HighBP                  0.101333\n",
      "Age                     0.100460\n",
      "Income                  0.092722\n",
      "GenHlth                 0.079466\n",
      "PhysHlth                0.069138\n",
      "Education               0.066546\n",
      "MentHlth                0.060881\n",
      "Fruits                  0.038866\n",
      "Smoker                  0.038037\n",
      "Veggies                 0.032454\n",
      "PhysActivity            0.030395\n",
      "Sex                     0.029653\n",
      "DiffWalk                0.022582\n",
      "HighChol                0.021861\n",
      "NoDocbcCost             0.018638\n",
      "HeartDiseaseorAttack    0.016553\n",
      "Stroke                  0.014107\n",
      "AnyHealthcare           0.010738\n",
      "HvyAlcoholConsump       0.009566\n",
      "CholCheck               0.006728\n",
      "dtype: float64\n"
     ]
    }
   ],
   "source": [
    "train_columns = x_train.columns\n",
    "features_dt = pd.Series(desicion_tree.feature_importances_, index = train_columns)\n",
    "print(features_dt.sort_values(ascending = False))"
   ]
  },
  {
   "cell_type": "markdown",
   "id": "f3a98088",
   "metadata": {
    "id": "f3a98088"
   },
   "source": [
    "#### Gradient Boosting"
   ]
  },
  {
   "cell_type": "code",
   "execution_count": null,
   "id": "b91064f5",
   "metadata": {
    "id": "b91064f5",
    "outputId": "29765d8d-b843-4965-d7ae-112048b3911d"
   },
   "outputs": [
    {
     "name": "stdout",
     "output_type": "stream",
     "text": [
      "HighBP                  0.321856\n",
      "GenHlth                 0.284878\n",
      "BMI                     0.120716\n",
      "Age                     0.110606\n",
      "HighChol                0.066013\n",
      "HeartDiseaseorAttack    0.016093\n",
      "Income                  0.015548\n",
      "DiffWalk                0.012535\n",
      "CholCheck               0.011101\n",
      "HvyAlcoholConsump       0.010891\n",
      "Sex                     0.009753\n",
      "Education               0.005578\n",
      "MentHlth                0.004120\n",
      "PhysHlth                0.003941\n",
      "Stroke                  0.002287\n",
      "Smoker                  0.000978\n",
      "Fruits                  0.000887\n",
      "PhysActivity            0.000669\n",
      "NoDocbcCost             0.000589\n",
      "AnyHealthcare           0.000541\n",
      "Veggies                 0.000423\n",
      "dtype: float64\n"
     ]
    }
   ],
   "source": [
    "train_columns = x_train.columns\n",
    "features_gb = pd.Series(gradient_boosting.feature_importances_, index = train_columns)\n",
    "print(features_gb.sort_values(ascending = False))"
   ]
  },
  {
   "cell_type": "markdown",
   "id": "7d4a008d",
   "metadata": {
    "id": "7d4a008d"
   },
   "source": [
    "#### Naive Bayes"
   ]
  },
  {
   "cell_type": "markdown",
   "id": "7088471a",
   "metadata": {
    "id": "7088471a"
   },
   "source": [
    "    **Note: Since Naive Bayes don't have an attribute 'feature_importances_', we can't calculate the importance of each feature in this case**"
   ]
  },
  {
   "cell_type": "markdown",
   "id": "a7ebd4be",
   "metadata": {
    "id": "a7ebd4be"
   },
   "source": [
    "*Let's visualize these to get a better understanding*"
   ]
  },
  {
   "cell_type": "code",
   "execution_count": null,
   "id": "df986684",
   "metadata": {
    "id": "df986684",
    "outputId": "fb8316a2-c143-4bc9-d477-8d5fad8b7b1d"
   },
   "outputs": [
    {
     "data": {
      "image/png": "[encoded data removed]",
      "text/plain": [
       "<Figure size 1080x576 with 1 Axes>"
      ]
     },
     "metadata": {
      "needs_background": "light"
     },
     "output_type": "display_data"
    }
   ],
   "source": [
    "plt.figure(figsize = (15,8))\n",
    "sns.barplot(x = features_rf, y = features_rf.index)\n",
    "plt.title(\"Feature Importance for Random Forest\")\n",
    "plt.xlabel('Score')\n",
    "plt.ylabel('Features')\n",
    "plt.show()"
   ]
  },
  {
   "cell_type": "code",
   "execution_count": null,
   "id": "77676084",
   "metadata": {
    "id": "77676084",
    "outputId": "209aa5a6-69e7-437f-f076-b3c67d96763f"
   },
   "outputs": [
    {
     "data": {
      "image/png": "[encoded data removed]",
      "text/plain": [
       "<Figure size 1080x576 with 1 Axes>"
      ]
     },
     "metadata": {
      "needs_background": "light"
     },
     "output_type": "display_data"
    }
   ],
   "source": [
    "plt.figure(figsize = (15,8))\n",
    "sns.barplot(x = features_dt, y = features_dt.index)\n",
    "plt.title(\"Feature Importance for Decision Tree\")\n",
    "plt.xlabel('Score')\n",
    "plt.ylabel('Features')\n",
    "plt.show()"
   ]
  },
  {
   "cell_type": "code",
   "execution_count": null,
   "id": "717181fb",
   "metadata": {
    "id": "717181fb",
    "outputId": "511f8d42-62a3-4dad-d225-4f3b729c5960"
   },
   "outputs": [
    {
     "data": {
      "image/png": "[encoded data removed]",
      "text/plain": [
       "<Figure size 1080x576 with 1 Axes>"
      ]
     },
     "metadata": {
      "needs_background": "light"
     },
     "output_type": "display_data"
    }
   ],
   "source": [
    "plt.figure(figsize = (15,8))\n",
    "sns.barplot(x = features_gb, y = features_gb.index)\n",
    "plt.title(\"Feature Importance for Gradient Boosting\")\n",
    "plt.xlabel('Score')\n",
    "plt.ylabel('Features')\n",
    "plt.show()"
   ]
  },
  {
   "cell_type": "markdown",
   "id": "d22e1d53",
   "metadata": {
    "id": "d22e1d53"
   },
   "source": [
    "On the basis of observations, we have concluded that the following features seems to have more importance than others; Therefore, we are selecting these features and training our models again with these features only.<br><br>\n",
    "**'HighBP', 'HighChol', 'CholCheck', 'BMI', 'Smoker', 'Stroke', 'PhysHlth', 'HeartDiseaseorAttack', 'GenHlth', 'Age'**"
   ]
  },
  {
   "cell_type": "code",
   "execution_count": null,
   "id": "ea92f83d",
   "metadata": {
    "id": "ea92f83d",
    "outputId": "b8b8ebb0-32df-4297-b03f-92ddd0f8ad1d"
   },
   "outputs": [
    {
     "name": "stdout",
     "output_type": "stream",
     "text": [
      "(69057, 10)\n",
      "(69057,)\n"
     ]
    }
   ],
   "source": [
    "X_new = df_new.drop('Diabetes_binary', axis = 1)\n",
    "X_new = X_new[['HighBP', 'HighChol', 'CholCheck', 'BMI', 'Smoker', 'Stroke', 'PhysHlth', 'HeartDiseaseorAttack', 'GenHlth', 'Age']]\n",
    "Y_new = df_new['Diabetes_binary']\n",
    "print(X_new.shape)\n",
    "print(Y_new.shape)"
   ]
  },
  {
   "cell_type": "code",
   "execution_count": null,
   "id": "5e3e7464",
   "metadata": {
    "id": "5e3e7464",
    "outputId": "092545b4-f9e3-4836-9bae-492d7cb2fdce"
   },
   "outputs": [
    {
     "data": {
      "text/html": [
       "<div>\n",
       "<style scoped>\n",
       "    .dataframe tbody tr th:only-of-type {\n",
       "        vertical-align: middle;\n",
       "    }\n",
       "\n",
       "    .dataframe tbody tr th {\n",
       "        vertical-align: top;\n",
       "    }\n",
       "\n",
       "    .dataframe thead th {\n",
       "        text-align: right;\n",
       "    }\n",
       "</style>\n",
       "<table border=\"1\" class=\"dataframe\">\n",
       "  <thead>\n",
       "    <tr style=\"text-align: right;\">\n",
       "      <th></th>\n",
       "      <th>HighBP</th>\n",
       "      <th>HighChol</th>\n",
       "      <th>CholCheck</th>\n",
       "      <th>BMI</th>\n",
       "      <th>Smoker</th>\n",
       "      <th>Stroke</th>\n",
       "      <th>PhysHlth</th>\n",
       "      <th>HeartDiseaseorAttack</th>\n",
       "      <th>GenHlth</th>\n",
       "      <th>Age</th>\n",
       "    </tr>\n",
       "  </thead>\n",
       "  <tbody>\n",
       "    <tr>\n",
       "      <th>0</th>\n",
       "      <td>1.0</td>\n",
       "      <td>0.0</td>\n",
       "      <td>1.0</td>\n",
       "      <td>26.0</td>\n",
       "      <td>0.0</td>\n",
       "      <td>0.0</td>\n",
       "      <td>30.0</td>\n",
       "      <td>0.0</td>\n",
       "      <td>3.0</td>\n",
       "      <td>4.0</td>\n",
       "    </tr>\n",
       "    <tr>\n",
       "      <th>1</th>\n",
       "      <td>1.0</td>\n",
       "      <td>1.0</td>\n",
       "      <td>1.0</td>\n",
       "      <td>26.0</td>\n",
       "      <td>1.0</td>\n",
       "      <td>1.0</td>\n",
       "      <td>0.0</td>\n",
       "      <td>0.0</td>\n",
       "      <td>3.0</td>\n",
       "      <td>12.0</td>\n",
       "    </tr>\n",
       "    <tr>\n",
       "      <th>2</th>\n",
       "      <td>0.0</td>\n",
       "      <td>0.0</td>\n",
       "      <td>1.0</td>\n",
       "      <td>26.0</td>\n",
       "      <td>0.0</td>\n",
       "      <td>0.0</td>\n",
       "      <td>10.0</td>\n",
       "      <td>0.0</td>\n",
       "      <td>1.0</td>\n",
       "      <td>13.0</td>\n",
       "    </tr>\n",
       "    <tr>\n",
       "      <th>3</th>\n",
       "      <td>1.0</td>\n",
       "      <td>1.0</td>\n",
       "      <td>1.0</td>\n",
       "      <td>28.0</td>\n",
       "      <td>1.0</td>\n",
       "      <td>0.0</td>\n",
       "      <td>3.0</td>\n",
       "      <td>0.0</td>\n",
       "      <td>3.0</td>\n",
       "      <td>11.0</td>\n",
       "    </tr>\n",
       "    <tr>\n",
       "      <th>4</th>\n",
       "      <td>0.0</td>\n",
       "      <td>0.0</td>\n",
       "      <td>1.0</td>\n",
       "      <td>29.0</td>\n",
       "      <td>1.0</td>\n",
       "      <td>0.0</td>\n",
       "      <td>0.0</td>\n",
       "      <td>0.0</td>\n",
       "      <td>2.0</td>\n",
       "      <td>8.0</td>\n",
       "    </tr>\n",
       "  </tbody>\n",
       "</table>\n",
       "</div>"
      ],
      "text/plain": [
       "   HighBP  HighChol  CholCheck   BMI  Smoker  Stroke  PhysHlth  \\\n",
       "0     1.0       0.0        1.0  26.0     0.0     0.0      30.0   \n",
       "1     1.0       1.0        1.0  26.0     1.0     1.0       0.0   \n",
       "2     0.0       0.0        1.0  26.0     0.0     0.0      10.0   \n",
       "3     1.0       1.0        1.0  28.0     1.0     0.0       3.0   \n",
       "4     0.0       0.0        1.0  29.0     1.0     0.0       0.0   \n",
       "\n",
       "   HeartDiseaseorAttack  GenHlth   Age  \n",
       "0                   0.0      3.0   4.0  \n",
       "1                   0.0      3.0  12.0  \n",
       "2                   0.0      1.0  13.0  \n",
       "3                   0.0      3.0  11.0  \n",
       "4                   0.0      2.0   8.0  "
      ]
     },
     "execution_count": 90,
     "metadata": {},
     "output_type": "execute_result"
    }
   ],
   "source": [
    "X_new.head()"
   ]
  },
  {
   "cell_type": "code",
   "execution_count": null,
   "id": "c08d5a91",
   "metadata": {
    "id": "c08d5a91",
    "outputId": "f0763b70-0e16-4fa9-cf98-ba06e12ad036"
   },
   "outputs": [
    {
     "name": "stdout",
     "output_type": "stream",
     "text": [
      "(48339, 10)\n",
      "(20718, 10)\n",
      "(48339,)\n",
      "(20718,)\n"
     ]
    }
   ],
   "source": [
    "x_train_new, x_test_new, y_train_new, y_test_new = train_test_split(X_new, Y_new, test_size = 0.3, random_state = 42)\n",
    "print(x_train_new.shape)\n",
    "print(x_test_new.shape)\n",
    "print(y_train_new.shape)\n",
    "print(y_test_new.shape)"
   ]
  },
  {
   "cell_type": "markdown",
   "id": "3c92ba45",
   "metadata": {
    "id": "3c92ba45"
   },
   "source": [
    "Now, since we have an updated dataset, let's train the models again and observe their accuracy"
   ]
  },
  {
   "cell_type": "markdown",
   "id": "27b3cd8f",
   "metadata": {
    "id": "27b3cd8f"
   },
   "source": [
    "## Modeling with Feature Selection"
   ]
  },
  {
   "cell_type": "markdown",
   "id": "b43b27ac",
   "metadata": {
    "id": "b43b27ac"
   },
   "source": [
    "#### Random Forest"
   ]
  },
  {
   "cell_type": "markdown",
   "id": "5a70de0b",
   "metadata": {
    "id": "5a70de0b"
   },
   "source": [
    "Previously, the accuracy achieved by this model was 75.41%"
   ]
  },
  {
   "cell_type": "code",
   "execution_count": null,
   "id": "38189aba",
   "metadata": {
    "id": "38189aba",
    "outputId": "e0b4eed8-75b2-470b-f048-0671fc0c702a"
   },
   "outputs": [
    {
     "name": "stderr",
     "output_type": "stream",
     "text": [
      "[Parallel(n_jobs=1)]: Using backend SequentialBackend with 1 concurrent workers.\n",
      "[Parallel(n_jobs=1)]: Done 1000 out of 1000 | elapsed:   37.0s finished\n",
      "[Parallel(n_jobs=1)]: Using backend SequentialBackend with 1 concurrent workers.\n",
      "[Parallel(n_jobs=1)]: Done 1000 out of 1000 | elapsed:    3.7s finished\n"
     ]
    },
    {
     "data": {
      "text/plain": [
       "0.7499758663963703"
      ]
     },
     "execution_count": 92,
     "metadata": {},
     "output_type": "execute_result"
    }
   ],
   "source": [
    "random_forest_new = RandomForestClassifier(random_state = 0, verbose = 1, n_estimators=1000, max_depth=10)\n",
    "random_forest_new.fit(x_train_new, y_train_new)\n",
    "random_forest_new.score(x_test_new, y_test_new)"
   ]
  },
  {
   "cell_type": "markdown",
   "id": "1e105511",
   "metadata": {
    "id": "1e105511"
   },
   "source": [
    "**Note:** Seems like accuracy decreased a bit in this case"
   ]
  },
  {
   "cell_type": "markdown",
   "id": "5790819b",
   "metadata": {
    "id": "5790819b"
   },
   "source": [
    "#### Decision Tree"
   ]
  },
  {
   "cell_type": "markdown",
   "id": "122cbd2b",
   "metadata": {
    "id": "122cbd2b"
   },
   "source": [
    "Previously, the accuracy achieved by this model was 65.64%"
   ]
  },
  {
   "cell_type": "code",
   "execution_count": null,
   "id": "494e70b4",
   "metadata": {
    "id": "494e70b4",
    "outputId": "58bcc097-e865-458b-e644-b2d843c656e5"
   },
   "outputs": [
    {
     "data": {
      "text/plain": [
       "0.6799401486629983"
      ]
     },
     "execution_count": 94,
     "metadata": {},
     "output_type": "execute_result"
    }
   ],
   "source": [
    "desicion_tree_new = DecisionTreeClassifier(random_state = 0, criterion=\"entropy\", splitter=\"random\")\n",
    "desicion_tree_new.fit(x_train_new, y_train_new)\n",
    "desicion_tree_new.score(x_test_new, y_test_new)"
   ]
  },
  {
   "cell_type": "markdown",
   "id": "351c56cf",
   "metadata": {
    "id": "351c56cf"
   },
   "source": [
    "**Note:** Seems like accuracy increased in this case"
   ]
  },
  {
   "cell_type": "markdown",
   "id": "59b457d7",
   "metadata": {
    "id": "59b457d7"
   },
   "source": [
    "#### Gradient Boosting"
   ]
  },
  {
   "cell_type": "markdown",
   "id": "e02ffd36",
   "metadata": {
    "id": "e02ffd36"
   },
   "source": [
    "Previously, the accuracy achieved by this model was 75.61%"
   ]
  },
  {
   "cell_type": "code",
   "execution_count": null,
   "id": "0032915e",
   "metadata": {
    "id": "0032915e",
    "outputId": "83d3ef88-9f29-4a29-b97e-26247e89d4f0"
   },
   "outputs": [
    {
     "data": {
      "text/plain": [
       "0.7512790809923737"
      ]
     },
     "execution_count": 95,
     "metadata": {},
     "output_type": "execute_result"
    }
   ],
   "source": [
    "gradient_boosting_new = GradientBoostingClassifier(random_state = 0, n_estimators = 300)\n",
    "gradient_boosting_new.fit(x_train_new, y_train_new)\n",
    "gradient_boosting_new.score(x_test_new, y_test_new)"
   ]
  },
  {
   "cell_type": "markdown",
   "id": "21ef2714",
   "metadata": {
    "id": "21ef2714"
   },
   "source": [
    "**Note:** Seems like accuracy decreased a bit in this case"
   ]
  },
  {
   "cell_type": "markdown",
   "id": "7eec1efd",
   "metadata": {
    "id": "7eec1efd"
   },
   "source": [
    "#### Naive Bayes"
   ]
  },
  {
   "cell_type": "markdown",
   "id": "ca45e639",
   "metadata": {
    "id": "ca45e639"
   },
   "source": [
    "Previously, the accuracy achieved by this model was 71.8%"
   ]
  },
  {
   "cell_type": "code",
   "execution_count": null,
   "id": "da52a395",
   "metadata": {
    "id": "da52a395",
    "outputId": "d3412bd9-59a5-4185-f3c8-893621eb1c49"
   },
   "outputs": [
    {
     "data": {
      "text/plain": [
       "0.7306689834926151"
      ]
     },
     "execution_count": 97,
     "metadata": {},
     "output_type": "execute_result"
    }
   ],
   "source": [
    "naive_bayes_new = GaussianNB()\n",
    "naive_bayes_new.fit(x_train_new, y_train_new)\n",
    "naive_bayes_new.score(x_test_new, y_test_new)"
   ]
  },
  {
   "cell_type": "markdown",
   "id": "8ac2d367",
   "metadata": {
    "id": "8ac2d367"
   },
   "source": [
    "**Note:** Seems like accuracy increased in this case"
   ]
  },
  {
   "cell_type": "code",
   "execution_count": null,
   "id": "d20313ba",
   "metadata": {
    "id": "d20313ba"
   },
   "outputs": [],
   "source": []
  },
  {
   "cell_type": "markdown",
   "id": "zJM6hC-zbTmU",
   "metadata": {
    "id": "zJM6hC-zbTmU"
   },
   "source": [
    "## ROC Curve:"
   ]
  },
  {
   "cell_type": "code",
   "execution_count": 67,
   "id": "y_iuqvRcbwLC",
   "metadata": {
    "colab": {
     "base_uri": "https://localhost:8080/",
     "height": 279
    },
    "id": "y_iuqvRcbwLC",
    "outputId": "7a8baf12-1177-41ec-de0e-71ad8fe92752"
   },
   "outputs": [
    {
     "data": {
      "image/png": "[encoded data removed]",
      "text/plain": [
       "<Figure size 432x288 with 1 Axes>"
      ]
     },
     "metadata": {
      "needs_background": "light"
     },
     "output_type": "display_data"
    }
   ],
   "source": [
    "fpr_rf, tpr_rf, _ = metrics.roc_curve(y_test, predictions_rf)\n",
    "fpr_dt, tpr_dt, _ = metrics.roc_curve(y_test, predictions_dt)\n",
    "fpr_Gdt, tpr_Gdt, _ = metrics.roc_curve(y_test, predictions_Gdt)\n",
    "fpr_nb, tpr_nb, _ = metrics.roc_curve(y_test, predictions_nb)\n",
    "fpr_lr, tpr_lr, _ = metrics.roc_curve(y_test, predictions_lr)\n",
    "\n",
    "plt.plot(fpr_rf,tpr_rf,color=\"red\")\n",
    "plt.plot(fpr_dt,tpr_dt,color=\"green\")\n",
    "plt.plot(fpr_Gdt,tpr_Gdt,color=\"purple\")\n",
    "plt.plot(fpr_nb,tpr_nb,color=\"blue\")\n",
    "plt.plot(fpr_lr,tpr_lr,color=\"blue\")\n",
    "\n",
    "plt.ylabel('True Positive Rate')\n",
    "plt.xlabel('False Positive Rate')\n",
    "plt.show()"
   ]
  },
  {
   "cell_type": "code",
   "execution_count": null,
   "id": "5-wyKs2CcNTf",
   "metadata": {
    "id": "5-wyKs2CcNTf"
   },
   "outputs": [],
   "source": []
  }
 ],
 "metadata": {
  "colab": {
   "name": "classificationModel.ipynb",
   "provenance": []
  },
  "kernelspec": {
   "display_name": "Python 3 (ipykernel)",
   "language": "python",
   "name": "python3"
  },
  "language_info": {
   "codemirror_mode": {
    "name": "ipython",
    "version": 3
   },
   "file_extension": ".py",
   "mimetype": "text/x-python",
   "name": "python",
   "nbconvert_exporter": "python",
   "pygments_lexer": "ipython3",
   "version": "3.10.2"
  }
 },
 "nbformat": 4,
 "nbformat_minor": 5
}
